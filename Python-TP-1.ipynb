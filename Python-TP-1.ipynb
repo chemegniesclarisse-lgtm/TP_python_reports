{
 "cells": [
  {
   "cell_type": "markdown",
   "id": "426486dd",
   "metadata": {
    "id": "426486dd"
   },
   "source": [
    "\n",
    "\n",
    "# Practical_1: Variables and Assignments"
   ]
  },
  {
   "cell_type": "markdown",
   "id": "7d7dfba1",
   "metadata": {
    "id": "9fb19f0d"
   },
   "source": [
    "----\n",
    "\n",
    "### Exercise 1:\n",
    "Declare a variable `x` and assign it the value `10`.\n"
   ]
  },
  {
   "cell_type": "code",
   "execution_count": 1,
   "id": "c8269713",
   "metadata": {
    "id": "9fb19f0d"
   },
   "outputs": [
    {
     "name": "stdout",
     "output_type": "stream",
     "text": [
      "10\n"
     ]
    }
   ],
   "source": [
    "# Exercise 1\n",
    "x = 10\n",
    "print(x)"
   ]
  },
  {
   "cell_type": "markdown",
   "id": "f56dc44e",
   "metadata": {
    "id": "9fb19f0d"
   },
   "source": [
    "---\n",
    "\n",
    "### Exercise 2:\n",
    "Assign the value `True` to a variable called `is_valid`.\n"
   ]
  },
  {
   "cell_type": "code",
   "execution_count": 2,
   "id": "363ca509",
   "metadata": {
    "id": "9fb19f0d"
   },
   "outputs": [
    {
     "data": {
      "text/plain": [
       "True"
      ]
     },
     "execution_count": 2,
     "metadata": {},
     "output_type": "execute_result"
    }
   ],
   "source": [
    "# Exercise 2\n",
    "is_valid = True\n",
    "is_valid"
   ]
  },
  {
   "cell_type": "markdown",
   "id": "9d01d966",
   "metadata": {
    "id": "9fb19f0d"
   },
   "source": [
    "---\n",
    "\n",
    "### Exercise 3:\n",
    "Create a string variable `name` with the value \"Python Programming\"."
   ]
  },
  {
   "cell_type": "code",
   "execution_count": 3,
   "id": "8137cc5a",
   "metadata": {
    "id": "9fb19f0d"
   },
   "outputs": [
    {
     "data": {
      "text/plain": [
       "'Python Programming'"
      ]
     },
     "execution_count": 3,
     "metadata": {},
     "output_type": "execute_result"
    }
   ],
   "source": [
    "# Exercise 3\n",
    "name = (\"Python Programming\")\n",
    "name"
   ]
  },
  {
   "cell_type": "markdown",
   "id": "1654c098",
   "metadata": {
    "id": "9fb19f0d"
   },
   "source": [
    "### Exercise 4:\n",
    "Assign the result of `5 + 3` to a variable `sum_result`.\n",
    "\n",
    "```python"
   ]
  },
  {
   "cell_type": "code",
   "execution_count": 4,
   "id": "7311e071",
   "metadata": {
    "id": "9fb19f0d"
   },
   "outputs": [
    {
     "data": {
      "text/plain": [
       "8"
      ]
     },
     "execution_count": 4,
     "metadata": {},
     "output_type": "execute_result"
    }
   ],
   "source": [
    "# Exercise 4\n",
    "\n",
    "x = 5\n",
    "y = 3\n",
    "sum_result = x + y\n",
    "sum_result\n"
   ]
  },
  {
   "cell_type": "code",
   "execution_count": 5,
   "id": "aaa37a81",
   "metadata": {},
   "outputs": [
    {
     "data": {
      "text/plain": [
       "8"
      ]
     },
     "execution_count": 5,
     "metadata": {},
     "output_type": "execute_result"
    }
   ],
   "source": [
    "sum_result = 5 + 3\n",
    "sum_result"
   ]
  },
  {
   "cell_type": "markdown",
   "id": "324fca52",
   "metadata": {
    "id": "9fb19f0d"
   },
   "source": [
    "### Exercise 5:\n",
    "Assign multiple variables in one line: `a = 5`, `b = 10`, `c = 15`.\n",
    "\n",
    "```python\n",
    "# Exercise 5"
   ]
  },
  {
   "cell_type": "code",
   "execution_count": 7,
   "id": "c8be0510",
   "metadata": {
    "id": "9fb19f0d"
   },
   "outputs": [
    {
     "data": {
      "text/plain": [
       "(5, 10, 15)"
      ]
     },
     "execution_count": 7,
     "metadata": {},
     "output_type": "execute_result"
    }
   ],
   "source": [
    "a = 5\n",
    "b = 10\n",
    "c = 15\n",
    "a, b, c"
   ]
  },
  {
   "cell_type": "markdown",
   "id": "cf5196a4",
   "metadata": {
    "id": "9fb19f0d"
   },
   "source": [
    "### Exercise 6:\n",
    "Assign the value of one variable `x` to another variable `y`.\n",
    "\n",
    "```python\n",
    "# Exercise 6\n",
    "```\n",
    "\n",
    "---"
   ]
  },
  {
   "cell_type": "code",
   "execution_count": 8,
   "id": "a743dd2b",
   "metadata": {
    "id": "9fb19f0d"
   },
   "outputs": [
    {
     "data": {
      "text/plain": [
       "17"
      ]
     },
     "execution_count": 8,
     "metadata": {},
     "output_type": "execute_result"
    }
   ],
   "source": [
    "x = 8\n",
    "y = 17\n",
    "t = x\n",
    "x = y\n",
    "x"
   ]
  },
  {
   "cell_type": "markdown",
   "id": "a3f160f9",
   "metadata": {
    "id": "9fb19f0d"
   },
   "source": [
    "### Exercise 7:\n",
    "Assign a floating-point number `9.8` to a variable `gravity`.\n",
    "\n",
    "```python\n",
    "# Exercise 7\n",
    "```\n",
    "\n",
    "---"
   ]
  },
  {
   "cell_type": "code",
   "execution_count": 10,
   "id": "e4c3ed95",
   "metadata": {
    "id": "9fb19f0d"
   },
   "outputs": [
    {
     "data": {
      "text/plain": [
       "9.8"
      ]
     },
     "execution_count": 10,
     "metadata": {},
     "output_type": "execute_result"
    }
   ],
   "source": [
    "gravity = 9.8\n",
    "gravity"
   ]
  },
  {
   "cell_type": "markdown",
   "id": "00f29001",
   "metadata": {
    "id": "9fb19f0d"
   },
   "source": [
    "### Exercise 8:\n",
    "Create a variable `country` and assign it the string value of your favorite country.\n",
    "\n",
    "```python\n",
    "# Exercise 8\n",
    "```\n",
    "\n",
    "---"
   ]
  },
  {
   "cell_type": "code",
   "execution_count": 11,
   "id": "9097c915",
   "metadata": {
    "id": "9fb19f0d"
   },
   "outputs": [
    {
     "data": {
      "text/plain": [
       "'cameroon'"
      ]
     },
     "execution_count": 11,
     "metadata": {},
     "output_type": "execute_result"
    }
   ],
   "source": [
    "country = (\"cameroon\")\n",
    "country"
   ]
  },
  {
   "cell_type": "markdown",
   "id": "9adc9642",
   "metadata": {
    "id": "9fb19f0d"
   },
   "source": [
    "### Exercise 9:\n",
    "Change the value of variable `age` from `25` to `26` in two separate steps.\n",
    "\n",
    "```python\n",
    "# Exercise 9\n",
    "```\n",
    "\n",
    "---"
   ]
  },
  {
   "cell_type": "code",
   "execution_count": 12,
   "id": "babf0d08",
   "metadata": {
    "id": "9fb19f0d"
   },
   "outputs": [
    {
     "data": {
      "text/plain": [
       "26"
      ]
     },
     "execution_count": 12,
     "metadata": {},
     "output_type": "execute_result"
    }
   ],
   "source": [
    "age = 25\n",
    "y = 26\n",
    "x = age\n",
    "age = y\n",
    "age"
   ]
  },
  {
   "cell_type": "markdown",
   "id": "329d3283",
   "metadata": {
    "id": "9fb19f0d"
   },
   "source": [
    "### Exercise 10:\n",
    "Use one variable to store the result of subtracting two numbers `20 - 7`.\n",
    "\n",
    "```python\n",
    "# Exercise 10\n",
    "```\n",
    "\n",
    "---"
   ]
  },
  {
   "cell_type": "code",
   "execution_count": 14,
   "id": "c7d541b4",
   "metadata": {
    "id": "9fb19f0d"
   },
   "outputs": [
    {
     "data": {
      "text/plain": [
       "13"
      ]
     },
     "execution_count": 14,
     "metadata": {},
     "output_type": "execute_result"
    }
   ],
   "source": [
    "x = 20 - 7\n",
    "x"
   ]
  },
  {
   "cell_type": "markdown",
   "id": "5ee71468",
   "metadata": {
    "id": "9fb19f0d"
   },
   "source": [
    "### Exercise 11:\n",
    "Assign an integer value and a floating-point value to two different variables.\n",
    "\n",
    "```python\n",
    "# Exercise 11\n",
    "```\n",
    "\n",
    "---"
   ]
  },
  {
   "cell_type": "code",
   "execution_count": 16,
   "id": "b40c62d6",
   "metadata": {
    "id": "9fb19f0d"
   },
   "outputs": [
    {
     "data": {
      "text/plain": [
       "(15, 12.5)"
      ]
     },
     "execution_count": 16,
     "metadata": {},
     "output_type": "execute_result"
    }
   ],
   "source": [
    "x = 15\n",
    "y = 12.5\n",
    "x, y"
   ]
  },
  {
   "cell_type": "markdown",
   "id": "6d124d94",
   "metadata": {
    "id": "9fb19f0d"
   },
   "source": [
    "### Exercise 12:\n",
    "Assign a boolean value `False` to a variable `is_completed`.\n",
    "\n",
    "```python\n",
    "# Exercise 12\n",
    "```\n",
    "\n",
    "---"
   ]
  },
  {
   "cell_type": "code",
   "execution_count": 18,
   "id": "fd207ef2",
   "metadata": {
    "id": "9fb19f0d"
   },
   "outputs": [
    {
     "data": {
      "text/plain": [
       "False"
      ]
     },
     "execution_count": 18,
     "metadata": {},
     "output_type": "execute_result"
    }
   ],
   "source": [
    "is_completed = False\n",
    "is_completed"
   ]
  },
  {
   "cell_type": "markdown",
   "id": "8f88739a",
   "metadata": {
    "id": "9fb19f0d"
   },
   "source": [
    "### Exercise 13:\n",
    "Swap the values of two variables `x` and `y`.\n",
    "\n",
    "```python\n",
    "# Exercise 13\n",
    "```\n",
    "\n",
    "---"
   ]
  },
  {
   "cell_type": "code",
   "execution_count": 20,
   "id": "1be5a565",
   "metadata": {
    "id": "9fb19f0d"
   },
   "outputs": [
    {
     "data": {
      "text/plain": [
       "7"
      ]
     },
     "execution_count": 20,
     "metadata": {},
     "output_type": "execute_result"
    }
   ],
   "source": [
    "x = 12\n",
    "y = 7\n",
    "t = x\n",
    "x = y\n",
    "x"
   ]
  },
  {
   "cell_type": "markdown",
   "id": "98f07745",
   "metadata": {
    "id": "9fb19f0d"
   },
   "source": [
    "### Exercise 14:\n",
    "Assign a complex number `3 + 4j` to a variable `complex_num`.\n",
    "\n",
    "```python\n",
    "# Exercise 14\n",
    "```\n",
    "\n",
    "---"
   ]
  },
  {
   "cell_type": "code",
   "execution_count": 26,
   "id": "0f139916",
   "metadata": {
    "id": "9fb19f0d"
   },
   "outputs": [
    {
     "data": {
      "text/plain": [
       "(3+4j)"
      ]
     },
     "execution_count": 26,
     "metadata": {},
     "output_type": "execute_result"
    }
   ],
   "source": [
    "complex_num = complex(3, 4)\n",
    "complex_num"
   ]
  },
  {
   "cell_type": "code",
   "execution_count": 25,
   "id": "c7702ef2",
   "metadata": {},
   "outputs": [
    {
     "data": {
      "text/plain": [
       "(3+4j)"
      ]
     },
     "execution_count": 25,
     "metadata": {},
     "output_type": "execute_result"
    }
   ],
   "source": [
    "complex_num = 3 + 4j\n",
    "complex_num"
   ]
  },
  {
   "cell_type": "markdown",
   "id": "d2599984",
   "metadata": {
    "id": "9fb19f0d"
   },
   "source": [
    "### Exercise 15:\n",
    "Reassign a variable from an integer to a string.\n",
    "\n",
    "```python\n",
    "# Exercise 15\n",
    "```\n",
    "\n",
    "---"
   ]
  },
  {
   "cell_type": "code",
   "execution_count": 27,
   "id": "8c2d4125",
   "metadata": {
    "id": "9fb19f0d"
   },
   "outputs": [
    {
     "data": {
      "text/plain": [
       "'age'"
      ]
     },
     "execution_count": 27,
     "metadata": {},
     "output_type": "execute_result"
    }
   ],
   "source": [
    "x = 12\n",
    "y = (\"age\")\n",
    "t = x\n",
    "x = y\n",
    "x"
   ]
  },
  {
   "cell_type": "markdown",
   "id": "824b1ab3",
   "metadata": {
    "id": "9fb19f0d"
   },
   "source": [
    "### Exercise 16:\n",
    "Create two variables `first_name` and `last_name`, and assign them your first and last names.\n",
    "\n",
    "```python\n",
    "# Exercise 16\n",
    "```\n",
    "\n",
    "---"
   ]
  },
  {
   "cell_type": "code",
   "execution_count": 29,
   "id": "4672f495",
   "metadata": {
    "id": "9fb19f0d"
   },
   "outputs": [
    {
     "data": {
      "text/plain": [
       "('clarisse', 'chemegnie')"
      ]
     },
     "execution_count": 29,
     "metadata": {},
     "output_type": "execute_result"
    }
   ],
   "source": [
    "first_name = \"clarisse\"\n",
    "last_name = \"chemegnie\"\n",
    "first_name, last_name"
   ]
  },
  {
   "cell_type": "markdown",
   "id": "97471857",
   "metadata": {
    "id": "9fb19f0d"
   },
   "source": [
    "### Exercise 17:\n",
    "Create a variable `temperature` and assign it the value of `35.5`.\n",
    "\n",
    "```python\n",
    "# Exercise 17\n",
    "```\n",
    "\n",
    "---"
   ]
  },
  {
   "cell_type": "code",
   "execution_count": 30,
   "id": "049f13ed",
   "metadata": {
    "id": "9fb19f0d"
   },
   "outputs": [
    {
     "data": {
      "text/plain": [
       "35.5"
      ]
     },
     "execution_count": 30,
     "metadata": {},
     "output_type": "execute_result"
    }
   ],
   "source": [
    "temperature = 35.5\n",
    "temperature"
   ]
  },
  {
   "cell_type": "markdown",
   "id": "fd76b4e9",
   "metadata": {
    "id": "9fb19f0d"
   },
   "source": [
    "### Exercise 18:\n",
    "Assign the result of the multiplication of two numbers `8 * 6` to a variable `product`.\n",
    "\n",
    "```python\n",
    "# Exercise 18\n",
    "```\n",
    "\n",
    "---"
   ]
  },
  {
   "cell_type": "code",
   "execution_count": 31,
   "id": "58122b9a",
   "metadata": {
    "id": "9fb19f0d"
   },
   "outputs": [
    {
     "data": {
      "text/plain": [
       "48"
      ]
     },
     "execution_count": 31,
     "metadata": {},
     "output_type": "execute_result"
    }
   ],
   "source": [
    "product = 8 * 6\n",
    "product"
   ]
  },
  {
   "cell_type": "markdown",
   "id": "de6c652c",
   "metadata": {
    "id": "9fb19f0d"
   },
   "source": [
    "### Exercise 19:\n",
    "Assign a sentence of your choice to a variable `sentence`.\n",
    "\n",
    "```python\n",
    "# Exercise 19\n",
    "```\n",
    "\n",
    "---"
   ]
  },
  {
   "cell_type": "code",
   "execution_count": 33,
   "id": "27fec684",
   "metadata": {
    "id": "9fb19f0d"
   },
   "outputs": [
    {
     "data": {
      "text/plain": [
       "'danielle is a wonderful person'"
      ]
     },
     "execution_count": 33,
     "metadata": {},
     "output_type": "execute_result"
    }
   ],
   "source": [
    "sentence = \"danielle is a wonderful person\"\n",
    "sentence"
   ]
  },
  {
   "cell_type": "markdown",
   "id": "2fd10939",
   "metadata": {
    "id": "9fb19f0d"
   },
   "source": [
    "### Exercise 20:\n",
    "Use an assignment to convert a string `'50'` into an integer variable `int_value`.\n",
    "\n",
    "```python\n",
    "# Exercise 20\n",
    "```\n",
    "\n",
    "---"
   ]
  },
  {
   "cell_type": "code",
   "execution_count": 35,
   "id": "21b87f6f",
   "metadata": {
    "id": "9fb19f0d"
   },
   "outputs": [
    {
     "data": {
      "text/plain": [
       "50"
      ]
     },
     "execution_count": 35,
     "metadata": {},
     "output_type": "execute_result"
    }
   ],
   "source": [
    "x = '50'\n",
    "int_value = int(x)\n",
    "int_value"
   ]
  },
  {
   "cell_type": "code",
   "execution_count": 38,
   "id": "766d9cca",
   "metadata": {},
   "outputs": [
    {
     "name": "stdout",
     "output_type": "stream",
     "text": [
      "50\n",
      "<class 'int'>\n"
     ]
    }
   ],
   "source": [
    "int_value = int(\"50\")\n",
    "print(int_value)\n",
    "print(type(int_value))"
   ]
  },
  {
   "cell_type": "markdown",
   "id": "a5d08af3",
   "metadata": {
    "id": "9fb19f0d"
   },
   "source": [
    "### Exercise 21:\n",
    "Assign the result of dividing `144` by `12` to a variable `quotient`.\n",
    "\n",
    "```python\n",
    "# Exercise 21\n",
    "```\n",
    "\n",
    "---"
   ]
  },
  {
   "cell_type": "code",
   "execution_count": 40,
   "id": "db074429",
   "metadata": {
    "id": "9fb19f0d"
   },
   "outputs": [
    {
     "name": "stdout",
     "output_type": "stream",
     "text": [
      "12.0\n",
      "<class 'float'>\n"
     ]
    }
   ],
   "source": [
    "quotient = 144 / 12\n",
    "print(quotient)\n",
    "print(type(quotient))"
   ]
  },
  {
   "cell_type": "code",
   "execution_count": 41,
   "id": "07c8fbc2",
   "metadata": {},
   "outputs": [
    {
     "name": "stdout",
     "output_type": "stream",
     "text": [
      "12\n",
      "<class 'int'>\n"
     ]
    }
   ],
   "source": [
    "quotient = 144 // 12\n",
    "print(quotient)\n",
    "print(type(quotient))"
   ]
  },
  {
   "cell_type": "markdown",
   "id": "4154881f",
   "metadata": {
    "id": "9fb19f0d"
   },
   "source": [
    "### Exercise 22:\n",
    "Assign the remainder of `47 divided by 5` to a variable `remainder`.\n",
    "\n",
    "```python\n",
    "# Exercise 22\n",
    "```\n",
    "\n",
    "---"
   ]
  },
  {
   "cell_type": "code",
   "execution_count": 42,
   "id": "bbcbaff1",
   "metadata": {
    "id": "9fb19f0d"
   },
   "outputs": [
    {
     "name": "stdout",
     "output_type": "stream",
     "text": [
      "2\n",
      "<class 'int'>\n"
     ]
    }
   ],
   "source": [
    "remainder = 47 % 5\n",
    "print(remainder)\n",
    "print(type(remainder))"
   ]
  },
  {
   "cell_type": "markdown",
   "id": "37032ce7",
   "metadata": {
    "id": "9fb19f0d"
   },
   "source": [
    "### Exercise 23:\n",
    "Create a variable `is_student` and assign it the value `True`.\n",
    "\n",
    "```python\n",
    "# Exercise 23\n",
    "```\n",
    "\n",
    "---"
   ]
  },
  {
   "cell_type": "code",
   "execution_count": 43,
   "id": "359f4b60",
   "metadata": {
    "id": "9fb19f0d"
   },
   "outputs": [
    {
     "data": {
      "text/plain": [
       "True"
      ]
     },
     "execution_count": 43,
     "metadata": {},
     "output_type": "execute_result"
    }
   ],
   "source": [
    "is_student = True\n",
    "is_student"
   ]
  },
  {
   "cell_type": "markdown",
   "id": "e547ab3a",
   "metadata": {
    "id": "9fb19f0d"
   },
   "source": [
    "### Exercise 24:\n",
    "Use a variable to store the result of a modulo operation: `45 % 4`.\n",
    "\n",
    "```python\n",
    "# Exercise 24\n",
    "```\n",
    "\n",
    "---"
   ]
  },
  {
   "cell_type": "code",
   "execution_count": 46,
   "id": "e5b32136",
   "metadata": {
    "id": "9fb19f0d"
   },
   "outputs": [
    {
     "name": "stdout",
     "output_type": "stream",
     "text": [
      "1\n",
      "<class 'int'>\n"
     ]
    }
   ],
   "source": [
    "x = 45 % 4\n",
    "print(x)\n",
    "print(type(x))"
   ]
  },
  {
   "cell_type": "markdown",
   "id": "c5a917e3",
   "metadata": {
    "id": "9fb19f0d"
   },
   "source": [
    "### Exercise 25:\n",
    "Create a variable `pi` and assign it the value `3.14159`.\n",
    "\n",
    "```python\n",
    "# Exercise 25\n",
    "```\n",
    "\n",
    "---"
   ]
  },
  {
   "cell_type": "code",
   "execution_count": 48,
   "id": "4cc7ae0f",
   "metadata": {
    "id": "9fb19f0d"
   },
   "outputs": [
    {
     "name": "stdout",
     "output_type": "stream",
     "text": [
      "3.14159\n",
      "<class 'float'>\n"
     ]
    }
   ],
   "source": [
    "pi = 3.14159\n",
    "print(pi)\n",
    "print(type(pi))"
   ]
  },
  {
   "cell_type": "markdown",
   "id": "c72ac118",
   "metadata": {
    "id": "9fb19f0d"
   },
   "source": [
    "### Exercise 26:\n",
    "Create two variables `length` and `width`, assign them values, and calculate the area of a rectangle.\n",
    "\n",
    "```python\n",
    "# Exercise 26\n",
    "```\n",
    "\n",
    "---"
   ]
  },
  {
   "cell_type": "code",
   "execution_count": 49,
   "id": "cbefa2a6",
   "metadata": {
    "id": "9fb19f0d"
   },
   "outputs": [
    {
     "name": "stdout",
     "output_type": "stream",
     "text": [
      "23\n",
      "<class 'int'>\n"
     ]
    }
   ],
   "source": [
    "length = 16\n",
    "width = 7\n",
    "area = length + width\n",
    "print(area)\n",
    "print(type(area))"
   ]
  },
  {
   "cell_type": "markdown",
   "id": "d1c72682",
   "metadata": {
    "id": "9fb19f0d"
   },
   "source": [
    "### Exercise 27:\n",
    "Assign a negative number to a variable `negative_value`.\n",
    "\n",
    "```python\n",
    "# Exercise 27\n",
    "```\n",
    "\n",
    "---\n"
   ]
  },
  {
   "cell_type": "code",
   "execution_count": 50,
   "id": "08be6acf",
   "metadata": {
    "id": "9fb19f0d"
   },
   "outputs": [
    {
     "data": {
      "text/plain": [
       "-15"
      ]
     },
     "execution_count": 50,
     "metadata": {},
     "output_type": "execute_result"
    }
   ],
   "source": [
    "negative_value = -15\n",
    "negative_value"
   ]
  },
  {
   "cell_type": "markdown",
   "id": "eb065a3a",
   "metadata": {
    "id": "9fb19f0d"
   },
   "source": [
    "### Exercise 28:\n",
    "Assign a string containing a special character (e.g., \"Hello, World!\") to a variable `greeting`.\n",
    "\n",
    "```python\n",
    "# Exercise 28\n",
    "```\n",
    "\n",
    "---"
   ]
  },
  {
   "cell_type": "code",
   "execution_count": 51,
   "id": "e8cf0581",
   "metadata": {
    "id": "9fb19f0d"
   },
   "outputs": [
    {
     "data": {
      "text/plain": [
       "'Hello, World!'"
      ]
     },
     "execution_count": 51,
     "metadata": {},
     "output_type": "execute_result"
    }
   ],
   "source": [
    "greeting = \"Hello, World!\"\n",
    "greeting"
   ]
  },
  {
   "cell_type": "markdown",
   "id": "7ee0e13e",
   "metadata": {
    "id": "9fb19f0d"
   },
   "source": [
    "### Exercise 29:\n",
    "Create a variable `population` and assign it a large integer value (in billions).\n",
    "\n",
    "```python\n",
    "# Exercise 29\n",
    "```\n",
    "\n",
    "---"
   ]
  },
  {
   "cell_type": "code",
   "execution_count": 55,
   "id": "82d18ed3",
   "metadata": {
    "id": "9fb19f0d"
   },
   "outputs": [
    {
     "data": {
      "text/plain": [
       "2000000"
      ]
     },
     "execution_count": 55,
     "metadata": {},
     "output_type": "execute_result"
    }
   ],
   "source": [
    "population = 2000000\n",
    "population"
   ]
  },
  {
   "cell_type": "markdown",
   "id": "28b62d00",
   "metadata": {
    "id": "9fb19f0d"
   },
   "source": [
    "### Exercise 30:\n",
    "Use a variable to store the result of raising `2` to the power of `8`.\n",
    "\n",
    "```python\n",
    "# Exercise 30\n",
    "```\n",
    "\n",
    "---"
   ]
  },
  {
   "cell_type": "code",
   "execution_count": 56,
   "id": "cbd6fb80",
   "metadata": {},
   "outputs": [
    {
     "data": {
      "text/plain": [
       "256"
      ]
     },
     "execution_count": 56,
     "metadata": {},
     "output_type": "execute_result"
    }
   ],
   "source": [
    "power_of_8 = 2**8\n",
    "power_of_8"
   ]
  },
  {
   "cell_type": "markdown",
   "id": "a1858ab2",
   "metadata": {
    "id": "9fb19f0d"
   },
   "source": [
    "### Exercise 31:\n",
    "Assign a list of your favorite fruits to a variable `fruits`.\n",
    "\n",
    "```python\n",
    "# Exercise 31\n",
    "```\n",
    "\n",
    "---"
   ]
  },
  {
   "cell_type": "code",
   "execution_count": 60,
   "id": "6b41bc05",
   "metadata": {},
   "outputs": [
    {
     "name": "stdout",
     "output_type": "stream",
     "text": [
      "['orange', 'mangue', 'raisin']\n",
      "<class 'list'>\n"
     ]
    }
   ],
   "source": [
    "fruits = [\"orange\", \"mangue\", \"raisin\"]\n",
    "print(fruits)\n",
    "print(type(fruits))"
   ]
  },
  {
   "cell_type": "markdown",
   "id": "2f36ded8",
   "metadata": {
    "id": "9fb19f0d"
   },
   "source": [
    "### Exercise 32:\n",
    "Assign a tuple of three numbers to a variable `coordinates`.\n",
    "\n",
    "```python\n",
    "# Exercise 32\n",
    "```\n",
    "\n",
    "---"
   ]
  },
  {
   "cell_type": "code",
   "execution_count": 61,
   "id": "970784cd",
   "metadata": {},
   "outputs": [
    {
     "name": "stdout",
     "output_type": "stream",
     "text": [
      "(12, 15, 5)\n",
      "<class 'tuple'>\n"
     ]
    }
   ],
   "source": [
    "coordinates = (12, 15, 5)\n",
    "print(coordinates)\n",
    "print(type(coordinates))"
   ]
  },
  {
   "cell_type": "markdown",
   "id": "20cdd435",
   "metadata": {
    "id": "9fb19f0d"
   },
   "source": [
    "### Exercise 33:\n",
    "Assign a dictionary with keys `name` and `age` to a variable `person`.\n",
    "\n",
    "```python\n",
    "# Exercise 33\n",
    "```\n",
    "\n",
    "---"
   ]
  },
  {
   "cell_type": "code",
   "execution_count": 63,
   "id": "c466f744",
   "metadata": {},
   "outputs": [
    {
     "data": {
      "text/plain": [
       "{'name': 'chemegnie', 'age': 20}"
      ]
     },
     "execution_count": 63,
     "metadata": {},
     "output_type": "execute_result"
    }
   ],
   "source": [
    "person = {\"name\":'chemegnie', \"age\": 20}\n",
    "person"
   ]
  },
  {
   "cell_type": "markdown",
   "id": "96440b08",
   "metadata": {
    "id": "9fb19f0d"
   },
   "source": [
    "### Exercise 34:\n",
    "Use variables to store the sum of two floating-point numbers.\n",
    "\n",
    "```python\n",
    "# Exercise 34\n",
    "```\n",
    "\n",
    "---"
   ]
  },
  {
   "cell_type": "code",
   "execution_count": 72,
   "id": "b2b1005f",
   "metadata": {},
   "outputs": [
    {
     "data": {
      "text/plain": [
       "7.35"
      ]
     },
     "execution_count": 72,
     "metadata": {},
     "output_type": "execute_result"
    }
   ],
   "source": [
    "X = 12.5\n",
    "y = 6.35\n",
    "result = (x + y)\n",
    "result"
   ]
  },
  {
   "cell_type": "markdown",
   "id": "5541ddbf",
   "metadata": {
    "id": "9fb19f0d"
   },
   "source": [
    "### Exercise 35:\n",
    "Create a variable `is_sunny` and assign it the result of a comparison `10 > 5`.\n",
    "\n",
    "```python\n",
    "# Exercise 35\n",
    "```\n",
    "\n",
    "---"
   ]
  },
  {
   "cell_type": "code",
   "execution_count": 64,
   "id": "234a787a",
   "metadata": {},
   "outputs": [
    {
     "data": {
      "text/plain": [
       "True"
      ]
     },
     "execution_count": 64,
     "metadata": {},
     "output_type": "execute_result"
    }
   ],
   "source": [
    "\n",
    "is_sunny = (10>5)\n",
    "is_sunny"
   ]
  },
  {
   "cell_type": "markdown",
   "id": "b9d49ca7",
   "metadata": {
    "id": "9fb19f0d"
   },
   "source": [
    "### Exercise 36:\n",
    "Assign a string and an integer to two different variables, then print both on one line.\n",
    "\n",
    "```python\n",
    "# Exercise 36\n",
    "```\n",
    "\n",
    "---"
   ]
  },
  {
   "cell_type": "code",
   "execution_count": 66,
   "id": "89cee656",
   "metadata": {},
   "outputs": [
    {
     "name": "stdout",
     "output_type": "stream",
     "text": [
      "mon grand frere a 30 ans\n"
     ]
    }
   ],
   "source": [
    "var_str = \"mon grand frere a\"\n",
    "var_int = 30\n",
    "print(var_str, var_int, \"ans\")"
   ]
  },
  {
   "cell_type": "markdown",
   "id": "389ae747",
   "metadata": {
    "id": "9fb19f0d"
   },
   "source": [
    "### Exercise 37:\n",
    "Reassign a variable that originally held a number to a boolean value.\n",
    "\n",
    "```python\n",
    "# Exercise 37\n",
    "```\n",
    "\n",
    "---"
   ]
  },
  {
   "cell_type": "code",
   "execution_count": null,
   "id": "afeae910",
   "metadata": {},
   "outputs": [],
   "source": []
  },
  {
   "cell_type": "markdown",
   "id": "0984c12e",
   "metadata": {
    "id": "9fb19f0d"
   },
   "source": [
    "### Exercise 38:\n",
    "Create a variable `is_weekend` and assign it the result of `False`.\n",
    "\n",
    "```python\n",
    "# Exercise 38\n",
    "```\n",
    "\n",
    "---"
   ]
  },
  {
   "cell_type": "code",
   "execution_count": 67,
   "id": "17e39097",
   "metadata": {},
   "outputs": [
    {
     "data": {
      "text/plain": [
       "False"
      ]
     },
     "execution_count": 67,
     "metadata": {},
     "output_type": "execute_result"
    }
   ],
   "source": [
    "is_weekend = (4==5)\n",
    "is_weekend"
   ]
  },
  {
   "cell_type": "markdown",
   "id": "f00592c1",
   "metadata": {
    "id": "9fb19f0d"
   },
   "source": [
    "### Exercise 39:\n",
    "Assign a multi-line string to a variable `description`.\n",
    "\n",
    "```python\n",
    "# Exercise 39\n",
    "```\n",
    "\n",
    "---"
   ]
  },
  {
   "cell_type": "code",
   "execution_count": 4,
   "id": "d3ff17d1",
   "metadata": {},
   "outputs": [
    {
     "data": {
      "text/plain": [
       "'a multi-line or docstring is a documentation about '"
      ]
     },
     "execution_count": 4,
     "metadata": {},
     "output_type": "execute_result"
    }
   ],
   "source": [
    "description = \"\"\"a multi-line or docstring is a documentation about \"\"\"\n",
    "description"
   ]
  },
  {
   "cell_type": "markdown",
   "id": "6c3e3f6c",
   "metadata": {
    "id": "9fb19f0d"
   },
   "source": [
    "### Exercise 40:\n",
    "Use variables to store the result of the absolute value of `-25`.\n",
    "\n",
    "```python\n",
    "# Exercise 40\n",
    "```\n",
    "\n",
    "---"
   ]
  },
  {
   "cell_type": "code",
   "execution_count": 6,
   "id": "e04ee3cd",
   "metadata": {},
   "outputs": [
    {
     "data": {
      "text/plain": [
       "25"
      ]
     },
     "execution_count": 6,
     "metadata": {},
     "output_type": "execute_result"
    }
   ],
   "source": [
    "var = -25\n",
    "var = abs(var)\n",
    "var"
   ]
  },
  {
   "cell_type": "markdown",
   "id": "19c754e5",
   "metadata": {
    "id": "9fb19f0d"
   },
   "source": [
    "### Exercise 41:\n",
    "Assign the result of a floor division `100 // 6` to a variable `floor_div_result`.\n",
    "\n",
    "```python\n",
    "# Exercise 41\n",
    "```\n",
    "\n",
    "---"
   ]
  },
  {
   "cell_type": "code",
   "execution_count": 7,
   "id": "9cf2be36",
   "metadata": {},
   "outputs": [
    {
     "data": {
      "text/plain": [
       "16"
      ]
     },
     "execution_count": 7,
     "metadata": {},
     "output_type": "execute_result"
    }
   ],
   "source": [
    "foor_div_result = 100  // 6\n",
    "foor_div_result"
   ]
  },
  {
   "cell_type": "markdown",
   "id": "425d8ba7",
   "metadata": {
    "id": "9fb19f0d"
   },
   "source": [
    "### Exercise 42:\n",
    "Assign the result of adding a floating-point number to an integer to a variable `mixed_sum`.\n",
    "\n",
    "```python\n",
    "# Exercise 42\n",
    "```\n",
    "\n",
    "---"
   ]
  },
  {
   "cell_type": "code",
   "execution_count": 8,
   "id": "2cb850e7",
   "metadata": {},
   "outputs": [
    {
     "data": {
      "text/plain": [
       "40.5"
      ]
     },
     "execution_count": 8,
     "metadata": {},
     "output_type": "execute_result"
    }
   ],
   "source": [
    "mixed_sum = 12.5 + 28\n",
    "mixed_sum"
   ]
  },
  {
   "cell_type": "markdown",
   "id": "b9258d9c",
   "metadata": {
    "id": "9fb19f0d"
   },
   "source": [
    "### Exercise 43:\n",
    "Assign a boolean value based on the comparison of two variables `a = 10` and `b = 15`.\n",
    "\n",
    "```python\n",
    "# Exercise 43\n",
    "```\n",
    "\n",
    "---"
   ]
  },
  {
   "cell_type": "code",
   "execution_count": 14,
   "id": "c77f28fb",
   "metadata": {},
   "outputs": [
    {
     "name": "stdout",
     "output_type": "stream",
     "text": [
      "False\n"
     ]
    }
   ],
   "source": [
    "a = 10\n",
    "b = 15\n",
    "c =  a == b\n",
    "print(c)"
   ]
  },
  {
   "cell_type": "markdown",
   "id": "b12b440d",
   "metadata": {
    "id": "9fb19f0d"
   },
   "source": [
    "### Exercise 44:\n",
    "Assign a long sentence to a variable and count its characters using `len()`.\n",
    "\n",
    "```python\n",
    "# Exercise 44\n",
    "```\n",
    "\n",
    "---"
   ]
  },
  {
   "cell_type": "code",
   "execution_count": 15,
   "id": "3521225f",
   "metadata": {},
   "outputs": [
    {
     "data": {
      "text/plain": [
       "71"
      ]
     },
     "execution_count": 15,
     "metadata": {},
     "output_type": "execute_result"
    }
   ],
   "source": [
    "var = \"Aims is the best center of African Institute for Mathematical Sciences \"\n",
    "len(var)"
   ]
  },
  {
   "cell_type": "markdown",
   "id": "5ab639fc",
   "metadata": {
    "id": "9fb19f0d"
   },
   "source": [
    "### Exercise 45:\n",
    "Assign a fractional result `7 / 3` to a variable `division_result`.\n",
    "\n",
    "```python\n",
    "# Exercise 45\n",
    "```\n",
    "\n",
    "---"
   ]
  },
  {
   "cell_type": "code",
   "execution_count": 16,
   "id": "553d1b68",
   "metadata": {},
   "outputs": [
    {
     "data": {
      "text/plain": [
       "2.3333333333333335"
      ]
     },
     "execution_count": 16,
     "metadata": {},
     "output_type": "execute_result"
    }
   ],
   "source": [
    "division_result = 7/3\n",
    "division_result"
   ]
  },
  {
   "cell_type": "markdown",
   "id": "df1154e0",
   "metadata": {
    "id": "9fb19f0d"
   },
   "source": [
    "### Exercise 46:\n",
    "Create a variable `speed` and assign it the value of 100 kilometers per hour.\n",
    "\n",
    "```python\n",
    "# Exercise 46\n",
    "```\n",
    "\n",
    "---"
   ]
  },
  {
   "cell_type": "code",
   "execution_count": 23,
   "id": "f9b66d3a",
   "metadata": {},
   "outputs": [
    {
     "name": "stdout",
     "output_type": "stream",
     "text": [
      "the speed value is 100/h\n"
     ]
    }
   ],
   "source": [
    "speed = 100\n",
    "print(\"the speed value is \" + str(speed) +\"/h\")"
   ]
  },
  {
   "cell_type": "markdown",
   "id": "01868c76",
   "metadata": {
    "id": "9fb19f0d"
   },
   "source": [
    "### Exercise 47:\n",
    "Assign a multi-variable equation like `y = 3x + 5` where `x = 4` to a variable `y`.\n",
    "\n",
    "```python\n",
    "# Exercise 47\n",
    "```\n",
    "\n",
    "---"
   ]
  },
  {
   "cell_type": "code",
   "execution_count": 27,
   "id": "d9ba9294",
   "metadata": {},
   "outputs": [
    {
     "data": {
      "text/plain": [
       "17"
      ]
     },
     "execution_count": 27,
     "metadata": {},
     "output_type": "execute_result"
    }
   ],
   "source": [
    "x = 4\n",
    "y = 3 * x + 5\n",
    "y"
   ]
  },
  {
   "cell_type": "markdown",
   "id": "04a3ed21",
   "metadata": {},
   "source": [
    "### Exercise 48:\n",
    "Use variables to calculate and store the average of three numbers.\n",
    "\n",
    "```python\n",
    "# Exercise 48\n",
    "```\n",
    "\n",
    "****"
   ]
  },
  {
   "cell_type": "code",
   "execution_count": 28,
   "id": "6818b066",
   "metadata": {},
   "outputs": [],
   "source": [
    "x = 5\n",
    "y = 9 \n",
    "z = 7\n",
    "average = (x + y + z)/3"
   ]
  },
  {
   "cell_type": "code",
   "execution_count": 29,
   "id": "f900f4d6",
   "metadata": {},
   "outputs": [
    {
     "data": {
      "text/plain": [
       "7.0"
      ]
     },
     "execution_count": 29,
     "metadata": {},
     "output_type": "execute_result"
    }
   ],
   "source": [
    "average"
   ]
  },
  {
   "cell_type": "code",
   "execution_count": null,
   "id": "5c120ca3",
   "metadata": {},
   "outputs": [],
   "source": []
  }
 ],
 "metadata": {
  "colab": {
   "provenance": []
  },
  "kernelspec": {
   "display_name": "Python 3 (ipykernel)",
   "language": "python",
   "name": "python3"
  },
  "language_info": {
   "codemirror_mode": {
    "name": "ipython",
    "version": 3
   },
   "file_extension": ".py",
   "mimetype": "text/x-python",
   "name": "python",
   "nbconvert_exporter": "python",
   "pygments_lexer": "ipython3",
   "version": "3.10.12"
  }
 },
 "nbformat": 4,
 "nbformat_minor": 5
}
