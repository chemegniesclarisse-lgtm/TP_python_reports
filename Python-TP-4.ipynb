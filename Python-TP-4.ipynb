{
 "cells": [
  {
   "cell_type": "markdown",
   "id": "d68c1dee",
   "metadata": {
    "id": "d68c1dee"
   },
   "source": [
    "# Practical_4: Flow control"
   ]
  },
  {
   "cell_type": "markdown",
   "id": "0f51609f-c5b3-4c33-85e8-66b9f74bfbb5",
   "metadata": {
    "id": "bea983a3"
   },
   "source": [
    "---\n",
    "\n",
    "### Exercise 1:\n",
    "Write a Python program that checks if a number is positive or negative.\n",
    "\n",
    "```python\n",
    "# Exercise 1\n",
    "```\n",
    "\n",
    "---"
   ]
  },
  {
   "cell_type": "code",
   "execution_count": 16,
   "id": "0038baa0-9c3e-41c1-ad1f-02439823f2e7",
   "metadata": {},
   "outputs": [
    {
     "name": "stdin",
     "output_type": "stream",
     "text": [
      "Enter a number:  -15\n"
     ]
    },
    {
     "name": "stdout",
     "output_type": "stream",
     "text": [
      "Negative\n"
     ]
    }
   ],
   "source": [
    "def check_sign(number):\n",
    "    if number > 0:\n",
    "        print(\"Positive\")\n",
    "    elif number < 0:\n",
    "        print(\"Negative\")\n",
    "    else:\n",
    "        print(\"Zero\")\n",
    "num = float(input(\"Enter a number: \"))\n",
    "check_sign(num)\n"
   ]
  },
  {
   "cell_type": "markdown",
   "id": "5dd647ce-6451-4522-9f86-10fa2c707671",
   "metadata": {
    "id": "bea983a3"
   },
   "source": [
    "### Exercise 2:\n",
    "Write a Python function that checks if a string starts with a vowel.\n",
    "\n",
    "```python\n",
    "# Exercise 2\n",
    "```\n",
    "\n",
    "---"
   ]
  },
  {
   "cell_type": "code",
   "execution_count": 17,
   "id": "34d1b37c-c888-45d5-b629-df51511f2336",
   "metadata": {},
   "outputs": [
    {
     "name": "stdout",
     "output_type": "stream",
     "text": [
      "False\n",
      "True\n"
     ]
    }
   ],
   "source": [
    "def starts_with_vowel(s):\n",
    "    if not s:\n",
    "        return False\n",
    "    return s[0].lower() in 'aeiou'\n",
    "print(starts_with_vowel(\"Banana\")) \n",
    "print(starts_with_vowel(\"anabelle\"))      \n"
   ]
  },
  {
   "cell_type": "markdown",
   "id": "a7fc0ad2-f73f-41d5-a923-d3ee02b27744",
   "metadata": {
    "id": "bea983a3"
   },
   "source": [
    "### Exercise 3:\n",
    "Write a Python program that takes a list of integers and prints \"Even\" for each even number and \"Odd\" for each odd number.\n",
    "\n",
    "```python\n",
    "# Exercise 3\n",
    "```\n",
    "\n",
    "---"
   ]
  },
  {
   "cell_type": "code",
   "execution_count": 18,
   "id": "8c05cbf0-cf91-4eea-a051-84efe40ca264",
   "metadata": {},
   "outputs": [
    {
     "name": "stdout",
     "output_type": "stream",
     "text": [
      "10 is Even\n",
      "3 is Odd\n",
      "4 is Even\n",
      "7 is Odd\n",
      "12 is Even\n",
      "9 is Odd\n"
     ]
    }
   ],
   "source": [
    "def print_even_or_odd(numbers):\n",
    "    for num in numbers:\n",
    "        if num % 2 == 0:\n",
    "            print(f\"{num} is Even\")\n",
    "        else:\n",
    "            print(f\"{num} is Odd\")\n",
    "\n",
    "sample_list = [10, 3, 4, 7, 12, 9]\n",
    "print_even_or_odd(sample_list)\n"
   ]
  },
  {
   "cell_type": "markdown",
   "id": "9150d15e-7714-4d24-9b0e-5d1fe9b56162",
   "metadata": {
    "id": "bea983a3"
   },
   "source": [
    "### Exercise 4:\n",
    "Write a Python program that checks if a given year is a leap year.\n",
    "\n",
    "```python\n",
    "# Exercise 4\n",
    "```\n",
    "\n",
    "---"
   ]
  },
  {
   "cell_type": "code",
   "execution_count": 19,
   "id": "d0c75741-f8cb-4bde-8714-660c3e3bc1ff",
   "metadata": {},
   "outputs": [
    {
     "name": "stdin",
     "output_type": "stream",
     "text": [
      "Enter a year:  2000\n"
     ]
    },
    {
     "name": "stdout",
     "output_type": "stream",
     "text": [
      "2000 is a leap year.\n"
     ]
    }
   ],
   "source": [
    "def is_leap_year(year):\n",
    "    if (year % 4 == 0 and year % 100 != 0) or (year % 400 == 0):\n",
    "        return True\n",
    "    else:\n",
    "        return False\n",
    "\n",
    "year = int(input(\"Enter a year: \"))\n",
    "if is_leap_year(year):\n",
    "    print(f\"{year} is a leap year.\")\n",
    "else:\n",
    "    print(f\"{year} is not a leap year.\")\n"
   ]
  },
  {
   "cell_type": "code",
   "execution_count": 20,
   "id": "9ee75757-f12c-4021-8ca3-bc27448a026f",
   "metadata": {},
   "outputs": [
    {
     "name": "stdout",
     "output_type": "stream",
     "text": [
      "False\n"
     ]
    }
   ],
   "source": [
    "print(is_leap_year(1890))"
   ]
  },
  {
   "cell_type": "markdown",
   "id": "5061799c-12ca-4ced-b504-e105de66fb42",
   "metadata": {
    "id": "bea983a3"
   },
   "source": [
    "### Exercise 5:\n",
    "Write a Python function that checks if a number is divisible by both 3 and 5.\n",
    "\n",
    "```python\n",
    "# Exercise 5\n",
    "```\n",
    "\n",
    "---"
   ]
  },
  {
   "cell_type": "code",
   "execution_count": 21,
   "id": "953e5f05-4fc6-45a9-80b4-dbdbfe73c71d",
   "metadata": {},
   "outputs": [
    {
     "name": "stdout",
     "output_type": "stream",
     "text": [
      "True\n"
     ]
    }
   ],
   "source": [
    "def is_divisible_by_3_and_5(n):\n",
    "    return n % 3 == 0 and n % 5 == 0\n",
    "print(is_divisible_by_3_and_5(15)) "
   ]
  },
  {
   "cell_type": "markdown",
   "id": "4d35d3ab-5f09-4a0f-9fdb-cb401dbae1bc",
   "metadata": {
    "id": "bea983a3"
   },
   "source": [
    "### Exercise 6:\n",
    "Write a Python program that prints \"Hot\" if the temperature is above 30, \"Warm\" if it is between 15 and 30, and \"Cold\" if it is below 15.\n",
    "\n",
    "```python\n",
    "# Exercise 6\n",
    "```\n",
    "\n",
    "---"
   ]
  },
  {
   "cell_type": "code",
   "execution_count": 22,
   "id": "62f1abaa-3474-4220-9391-4082043de2be",
   "metadata": {},
   "outputs": [
    {
     "name": "stdin",
     "output_type": "stream",
     "text": [
      "Enter the temperature:  78\n"
     ]
    },
    {
     "name": "stdout",
     "output_type": "stream",
     "text": [
      "Hot\n"
     ]
    }
   ],
   "source": [
    "def check_temperature(temp):\n",
    "    if temp > 30:\n",
    "        print(\"Hot\")\n",
    "    elif 15 <= temp <= 30:\n",
    "        print(\"Warm\")\n",
    "    else:\n",
    "        print(\"Cold\")\n",
    "\n",
    "temperature = float(input(\"Enter the temperature: \"))\n",
    "check_temperature(temperature)\n",
    "\n"
   ]
  },
  {
   "cell_type": "markdown",
   "id": "f2531aaf-1f1e-4164-ad79-b084222a4575",
   "metadata": {
    "id": "bea983a3"
   },
   "source": [
    "### Exercise 7:\n",
    "Write a Python program that checks if a string contains the letter 'a'.\n",
    "\n",
    "```python\n",
    "# Exercise 7\n",
    "```\n",
    "\n",
    "---"
   ]
  },
  {
   "cell_type": "code",
   "execution_count": 23,
   "id": "1acd53dc-84a1-4402-a131-62c9514373d4",
   "metadata": {},
   "outputs": [
    {
     "name": "stdin",
     "output_type": "stream",
     "text": [
      "Enter a string:  Chemegnie1234\n"
     ]
    },
    {
     "name": "stdout",
     "output_type": "stream",
     "text": [
      "No, the string does not contain 'a'.\n"
     ]
    }
   ],
   "source": [
    "def contains_a(s):\n",
    "    return 'a' in s\n",
    "text = input(\"Enter a string: \")\n",
    "if contains_a(text):\n",
    "    print(\"Yes, the string contains 'a'.\")\n",
    "else:\n",
    "    print(\"No, the string does not contain 'a'.\")\n"
   ]
  },
  {
   "cell_type": "markdown",
   "id": "2d7ceb26-d789-40ab-b7e4-af0af6d7a793",
   "metadata": {
    "id": "bea983a3"
   },
   "source": [
    "### Exercise 8:\n",
    "Write a Python function that checks if two numbers are equal, or which one is larger.\n",
    "\n",
    "```python\n",
    "# Exercise 8\n",
    "```\n",
    "\n",
    "---"
   ]
  },
  {
   "cell_type": "code",
   "execution_count": 25,
   "id": "05b372b5-8674-4584-8ca9-dc238dd34626",
   "metadata": {},
   "outputs": [
    {
     "name": "stdout",
     "output_type": "stream",
     "text": [
      "20 is greater than 10.\n"
     ]
    }
   ],
   "source": [
    "def compare_numbers(a, b):\n",
    "    if a == b:\n",
    "        return \"The numbers are equal.\"\n",
    "    elif a > b:\n",
    "        return f\"{a} is greater than {b}.\"\n",
    "    else:\n",
    "        return f\"{b} is greater than {a}.\"\n",
    "print(compare_numbers(10, 20))"
   ]
  },
  {
   "cell_type": "markdown",
   "id": "a27e4725-e304-4a5c-9907-3d35d834af8a",
   "metadata": {
    "id": "bea983a3"
   },
   "source": [
    "### Exercise 9:\n",
    "Write a Python program that checks if a list is empty.\n",
    "\n",
    "```python\n",
    "# Exercise 9\n",
    "```\n",
    "\n",
    "---"
   ]
  },
  {
   "cell_type": "code",
   "execution_count": 27,
   "id": "c5fc5aa8-d277-4197-a874-60cf378a00e0",
   "metadata": {},
   "outputs": [
    {
     "name": "stdout",
     "output_type": "stream",
     "text": [
      "The list is empty.\n"
     ]
    }
   ],
   "source": [
    "def is_list_empty(lst):\n",
    "    if not lst:\n",
    "        print(\"The list is empty.\")\n",
    "    else:\n",
    "        print(\"The list is not empty.\")\n",
    "\n",
    "my_list = [] \n",
    "is_list_empty(my_list)\n"
   ]
  },
  {
   "cell_type": "markdown",
   "id": "0183238b-a2cd-4026-b55f-56c1c353e21b",
   "metadata": {
    "id": "bea983a3"
   },
   "source": [
    "### Exercise 10:\n",
    "Write a Python function that takes two strings and checks if they are anagrams.\n",
    "\n",
    "```python\n",
    "# Exercise 10\n",
    "```\n",
    "\n",
    "---"
   ]
  },
  {
   "cell_type": "code",
   "execution_count": 30,
   "id": "891e3924-40f1-425e-87b1-18a0d9503065",
   "metadata": {},
   "outputs": [
    {
     "name": "stdout",
     "output_type": "stream",
     "text": [
      "True\n"
     ]
    }
   ],
   "source": [
    "def are_anagrams(str1, str2):\n",
    "    str1_clean = str1.replace(\" \", \"\").lower()\n",
    "    str2_clean = str2.replace(\" \", \"\").lower()\n",
    "    return sorted(str1_clean) == sorted(str2_clean)\n",
    "print(are_anagrams(\"clara\", \"larac\"))"
   ]
  },
  {
   "cell_type": "markdown",
   "id": "d454fe28-327a-4830-ac44-278729d59948",
   "metadata": {
    "id": "bea983a3"
   },
   "source": [
    "### Exercise 11:\n",
    "Write a Python program that checks if a number is prime.\n",
    "\n",
    "```python\n",
    "# Exercise 11\n",
    "```\n",
    "\n",
    "---"
   ]
  },
  {
   "cell_type": "code",
   "execution_count": 31,
   "id": "e0230642-8fe8-4bc7-b90f-6aeadd167805",
   "metadata": {},
   "outputs": [
    {
     "name": "stdin",
     "output_type": "stream",
     "text": [
      "Enter a number:  78\n"
     ]
    },
    {
     "name": "stdout",
     "output_type": "stream",
     "text": [
      "78 is not a prime number.\n"
     ]
    }
   ],
   "source": [
    "def is_prime(n):\n",
    "    if n <= 1:\n",
    "        return False\n",
    "    if n == 2:\n",
    "        return True\n",
    "    if n % 2 == 0:\n",
    "        return False\n",
    "    for i in range(3, int(n**0.5) + 1, 2):\n",
    "        if n % i == 0:\n",
    "            return False\n",
    "    return True\n",
    "\n",
    "number = int(input(\"Enter a number: \"))\n",
    "if is_prime(number):\n",
    "    print(f\"{number} is a prime number.\")\n",
    "else:\n",
    "    print(f\"{number} is not a prime number.\")\n"
   ]
  },
  {
   "cell_type": "markdown",
   "id": "4a83b524-a6cd-4965-abda-b3293a9946c6",
   "metadata": {
    "id": "bea983a3"
   },
   "source": [
    "### Exercise 12:\n",
    "Write a Python program that checks if a list of numbers is sorted in ascending order.\n",
    "\n",
    "```python\n",
    "# Exercise 12\n",
    "```\n",
    "\n",
    "---"
   ]
  },
  {
   "cell_type": "code",
   "execution_count": 32,
   "id": "3f1f9e83-1265-4800-b880-5eaa4230f797",
   "metadata": {},
   "outputs": [
    {
     "name": "stdout",
     "output_type": "stream",
     "text": [
      "The list is sorted in ascending order.\n"
     ]
    }
   ],
   "source": [
    "def is_sorted_ascending(lst):\n",
    "    return lst == sorted(lst)\n",
    "\n",
    "numbers = [1, 3, 5, 7, 9]\n",
    "if is_sorted_ascending(numbers):\n",
    "    print(\"The list is sorted in ascending order.\")\n",
    "else:\n",
    "    print(\"The list is not sorted in ascending order.\")\n"
   ]
  },
  {
   "cell_type": "code",
   "execution_count": null,
   "id": "d7a4bbd0-b7de-455b-b82a-827b03740812",
   "metadata": {},
   "outputs": [],
   "source": []
  },
  {
   "cell_type": "markdown",
   "id": "1f4f76eb-1ddb-476a-adc3-00f23b44962c",
   "metadata": {
    "id": "bea983a3"
   },
   "source": [
    "### Exercise 13:\n",
    "Write a Python function that takes a character and checks if it is a digit.\n",
    "\n",
    "```python\n",
    "# Exercise 13\n",
    "```\n",
    "\n",
    "---"
   ]
  },
  {
   "cell_type": "code",
   "execution_count": 33,
   "id": "0c8e0a92-5bf2-4cf9-97ea-403d9347d828",
   "metadata": {},
   "outputs": [
    {
     "name": "stdout",
     "output_type": "stream",
     "text": [
      "True\n",
      "False\n",
      "False\n"
     ]
    }
   ],
   "source": [
    "def is_digit(char):\n",
    "    return char.isdigit()\n",
    "print(is_digit('5')) \n",
    "print(is_digit('a')) \n",
    "print(is_digit(' '))   \n"
   ]
  },
  {
   "cell_type": "markdown",
   "id": "07c65a78-1de5-4381-8d0d-8900b2d2adf0",
   "metadata": {
    "id": "bea983a3"
   },
   "source": [
    "### Exercise 14:\n",
    "Write a Python function that checks if a string contains only uppercase letters.\n",
    "\n",
    "```python\n",
    "# Exercise 14\n",
    "```\n",
    "\n",
    "---"
   ]
  },
  {
   "cell_type": "code",
   "execution_count": 34,
   "id": "e7ad914c-bcad-462c-a549-2b308f762f1b",
   "metadata": {},
   "outputs": [
    {
     "name": "stdout",
     "output_type": "stream",
     "text": [
      "True\n"
     ]
    }
   ],
   "source": [
    "def is_all_uppercase(s):\n",
    "    return s.isupper()\n",
    "print(is_all_uppercase(\"HELLO\"))"
   ]
  },
  {
   "cell_type": "markdown",
   "id": "45597320-2f44-4f9e-b1be-f068dd19ee77",
   "metadata": {
    "id": "bea983a3"
   },
   "source": [
    "### Exercise 15:\n",
    "Write a Python program that checks if a number is a multiple of 10.\n",
    "\n",
    "```python\n",
    "# Exercise 15\n",
    "```\n",
    "\n",
    "---"
   ]
  },
  {
   "cell_type": "code",
   "execution_count": 35,
   "id": "282fcc62-9d4e-4b8f-ad1a-f29dbb011357",
   "metadata": {},
   "outputs": [
    {
     "name": "stdin",
     "output_type": "stream",
     "text": [
      "Enter a number:  35\n"
     ]
    },
    {
     "name": "stdout",
     "output_type": "stream",
     "text": [
      "35 is not a multiple of 10.\n"
     ]
    }
   ],
   "source": [
    "def is_multiple_of_10(n):\n",
    "    return n % 10 == 0\n",
    "\n",
    "number = int(input(\"Enter a number: \"))\n",
    "if is_multiple_of_10(number):\n",
    "    print(f\"{number} is a multiple of 10.\")\n",
    "else:\n",
    "    print(f\"{number} is not a multiple of 10.\")\n"
   ]
  },
  {
   "cell_type": "markdown",
   "id": "39ebfc0b-9855-4497-9e2e-62e1a8ee637b",
   "metadata": {
    "id": "bea983a3"
   },
   "source": [
    "### Exercise 16:\n",
    "Write a Python function that checks if a list contains any duplicates.\n",
    "\n",
    "```python\n",
    "# Exercise 16\n",
    "```\n",
    "\n",
    "---"
   ]
  },
  {
   "cell_type": "code",
   "execution_count": 37,
   "id": "10bc971a-1aa2-4b43-810c-877f65ee1d95",
   "metadata": {},
   "outputs": [
    {
     "name": "stdout",
     "output_type": "stream",
     "text": [
      "True\n"
     ]
    }
   ],
   "source": [
    "def has_duplicates(lst):\n",
    "    return len(lst) != len(set(lst))\n",
    "print(has_duplicates([6,7,5,1,2,2]))"
   ]
  },
  {
   "cell_type": "markdown",
   "id": "ab4459a1-e727-4878-9b78-b8a6239ccbac",
   "metadata": {
    "id": "bea983a3"
   },
   "source": [
    "### Exercise 17:\n",
    "Write a Python program that prints \"Teenager\" if the age is between 13 and 19, otherwise it prints \"Not a teenager.\"\n",
    "\n",
    "```python\n",
    "# Exercise 17\n",
    "```\n",
    "\n",
    "---"
   ]
  },
  {
   "cell_type": "code",
   "execution_count": 38,
   "id": "1455bd50-c3f9-4e5a-8345-2124c391c545",
   "metadata": {},
   "outputs": [
    {
     "name": "stdin",
     "output_type": "stream",
     "text": [
      "Enter age:  25\n"
     ]
    },
    {
     "name": "stdout",
     "output_type": "stream",
     "text": [
      "Not a teenager.\n"
     ]
    }
   ],
   "source": [
    "def check_teenager(age):\n",
    "    if 13 <= age <= 19:\n",
    "        print(\"Teenager\")\n",
    "    else:\n",
    "        print(\"Not a teenager.\")\n",
    "\n",
    "age = int(input(\"Enter age: \"))\n",
    "check_teenager(age)\n"
   ]
  },
  {
   "cell_type": "markdown",
   "id": "4de33679-2d5f-4b6a-afc6-62b0baa579fa",
   "metadata": {
    "id": "bea983a3"
   },
   "source": [
    "### Exercise 18:\n",
    "Write a Python function that checks if a list contains an element greater than 100.\n",
    "\n",
    "```python\n",
    "# Exercise 18\n",
    "```\n",
    "\n",
    "---"
   ]
  },
  {
   "cell_type": "code",
   "execution_count": 40,
   "id": "84b80705-5967-4a96-b5aa-f7fe06e51973",
   "metadata": {},
   "outputs": [
    {
     "name": "stdout",
     "output_type": "stream",
     "text": [
      "True\n"
     ]
    }
   ],
   "source": [
    "def has_element_greater_than_100(lst):\n",
    "    for num in lst:\n",
    "        if num > 100:\n",
    "            return True\n",
    "    return False\n",
    "print(has_element_greater_than_100([10, 50, 101]))  \n",
    "\n"
   ]
  },
  {
   "cell_type": "markdown",
   "id": "96be8049-4e1c-4d35-b04f-fe335dde261d",
   "metadata": {
    "id": "bea983a3"
   },
   "source": [
    "### Exercise 19:\n",
    "Write a Python program that checks if a number is even or odd.\n",
    "\n",
    "```python\n",
    "# Exercise 19\n",
    "```\n",
    "\n",
    "---"
   ]
  },
  {
   "cell_type": "code",
   "execution_count": 41,
   "id": "6c4fcbc2-114f-4c5c-a42f-d7b89bf14b46",
   "metadata": {},
   "outputs": [
    {
     "name": "stdin",
     "output_type": "stream",
     "text": [
      "Enter a number:  99\n"
     ]
    },
    {
     "name": "stdout",
     "output_type": "stream",
     "text": [
      "99 is Odd.\n"
     ]
    }
   ],
   "source": [
    "def check_even_or_odd(n):\n",
    "    if n % 2 == 0:\n",
    "        print(f\"{n} is Even.\")\n",
    "    else:\n",
    "        print(f\"{n} is Odd.\")\n",
    "\n",
    "number = int(input(\"Enter a number: \"))\n",
    "check_even_or_odd(number)\n"
   ]
  },
  {
   "cell_type": "markdown",
   "id": "44e9ddeb-baba-4eef-acaf-0f5400bcad59",
   "metadata": {
    "id": "bea983a3"
   },
   "source": [
    "### Exercise 20:\n",
    "Write a Python function that checks if a string ends with a punctuation mark.\n",
    "\n",
    "```python\n",
    "# Exercise 20\n",
    "```\n",
    "\n",
    "---"
   ]
  },
  {
   "cell_type": "code",
   "execution_count": 44,
   "id": "8e93af29-c7d5-4cd4-8a45-c1348d258139",
   "metadata": {},
   "outputs": [
    {
     "name": "stdout",
     "output_type": "stream",
     "text": [
      "True\n"
     ]
    }
   ],
   "source": [
    "import string\n",
    "\n",
    "def ends_with_punctuation(text):\n",
    "    return text and text[-1] in string.punctuation\n",
    "print(ends_with_punctuation(\"good morning everyone?\"))"
   ]
  },
  {
   "cell_type": "markdown",
   "id": "05cedcf4-f221-4cda-9f53-1380239b66a5",
   "metadata": {
    "id": "bea983a3"
   },
   "source": [
    "### Exercise 21:\n",
    "Write a Python program that prints \"Yes\" if the number is between 1 and 100, otherwise it prints \"No.\"\n",
    "\n",
    "```python\n",
    "# Exercise 21\n",
    "```\n",
    "\n",
    "---"
   ]
  },
  {
   "cell_type": "code",
   "execution_count": 3,
   "id": "cda9ba5d-2b25-49e5-8bbd-69c31e7fecca",
   "metadata": {},
   "outputs": [
    {
     "name": "stdin",
     "output_type": "stream",
     "text": [
      "Enter a number:  157\n"
     ]
    },
    {
     "name": "stdout",
     "output_type": "stream",
     "text": [
      "No\n"
     ]
    }
   ],
   "source": [
    "def check_number(num):\n",
    "    if 1 <= num <= 100:\n",
    "        print(\"Yes\")\n",
    "    else:\n",
    "        print(\"No\")\n",
    "\n",
    "number = int(input(\"Enter a number: \"))\n",
    "check_number(number)\n"
   ]
  },
  {
   "cell_type": "markdown",
   "id": "a5422144-ee1f-4384-a4da-77e59ca407e5",
   "metadata": {
    "id": "bea983a3"
   },
   "source": [
    "### Exercise 22:\n",
    "Write a Python program that checks if two strings have the same length.\n",
    "\n",
    "```python\n",
    "# Exercise 22\n",
    "```\n",
    "\n",
    "---"
   ]
  },
  {
   "cell_type": "code",
   "execution_count": 4,
   "id": "e1ea7563-f3b3-4be7-b9ab-3390c8d8aa48",
   "metadata": {},
   "outputs": [
    {
     "name": "stdin",
     "output_type": "stream",
     "text": [
      "Enter the first string:  clarisse\n",
      "Enter the second string:  chemegnie\n"
     ]
    },
    {
     "name": "stdout",
     "output_type": "stream",
     "text": [
      "The strings have different lengths.\n"
     ]
    }
   ],
   "source": [
    "def same_length(str1, str2):\n",
    "    if len(str1) == len(str2):\n",
    "        print(\"The strings have the same length.\")\n",
    "    else:\n",
    "        print(\"The strings have different lengths.\")\n",
    "\n",
    "string1 = input(\"Enter the first string: \")\n",
    "string2 = input(\"Enter the second string: \")\n",
    "same_length(string1, string2)\n"
   ]
  },
  {
   "cell_type": "markdown",
   "id": "05218ec7-9ca2-4ccd-9891-8ce58a6bbc4c",
   "metadata": {
    "id": "bea983a3"
   },
   "source": [
    "### Exercise 23:\n",
    "Write a Python function that checks if a number is greater than its reverse.\n",
    "\n",
    "```python\n",
    "# Exercise 23\n",
    "```\n",
    "\n",
    "---"
   ]
  },
  {
   "cell_type": "code",
   "execution_count": 6,
   "id": "b1ac3afd-fd3d-4955-b916-b9055568bfe8",
   "metadata": {},
   "outputs": [
    {
     "name": "stdout",
     "output_type": "stream",
     "text": [
      "False\n",
      "True\n",
      "True\n"
     ]
    }
   ],
   "source": [
    "def is_greater_than_reverse(num):\n",
    "   \n",
    "    reversed_num = int(str(num)[::-1])\n",
    "    return num > reversed_num\n",
    "print(is_greater_than_reverse(123))\n",
    "print(is_greater_than_reverse(321))  \n",
    "print(is_greater_than_reverse(100))  \n"
   ]
  },
  {
   "cell_type": "markdown",
   "id": "1be84405-c760-4248-b341-71c99c73df7a",
   "metadata": {
    "id": "bea983a3"
   },
   "source": [
    "### Exercise 24:\n",
    "Write a Python program that checks if a password contains both letters and numbers.\n",
    "\n",
    "```python\n",
    "# Exercise 24\n",
    "```\n",
    "\n",
    "---"
   ]
  },
  {
   "cell_type": "code",
   "execution_count": 8,
   "id": "febd8220-5224-4640-bfc3-b52f1fa30e2e",
   "metadata": {},
   "outputs": [
    {
     "name": "stdin",
     "output_type": "stream",
     "text": [
      "Enter your password:  Chemegnie1234#\n"
     ]
    },
    {
     "name": "stdout",
     "output_type": "stream",
     "text": [
      "Password contains both letters and numbers.\n"
     ]
    }
   ],
   "source": [
    "def is_valid_password(password):\n",
    "    has_letter = any(char.isalpha() for char in password)\n",
    "    has_digit = any(char.isdigit() for char in password)\n",
    "\n",
    "    if has_letter and has_digit:\n",
    "        print(\"Password contains both letters and numbers.\")\n",
    "    else:\n",
    "        print(\"Password must contain both letters and numbers.\")\n",
    "\n",
    "password = input(\"Enter your password: \")\n",
    "is_valid_password(password)\n"
   ]
  },
  {
   "cell_type": "markdown",
   "id": "48f352b2-99d3-4245-bf47-712fa6558e94",
   "metadata": {
    "id": "bea983a3"
   },
   "source": [
    "### Exercise 25:\n",
    "Write a Python program that checks if a number is between two given numbers.\n",
    "\n",
    "```python\n",
    "# Exercise 25\n",
    "```\n",
    "\n",
    "---"
   ]
  },
  {
   "cell_type": "code",
   "execution_count": 10,
   "id": "609eee04-5be4-4ef0-ab67-58c08c68d973",
   "metadata": {},
   "outputs": [
    {
     "name": "stdin",
     "output_type": "stream",
     "text": [
      "Enter the number to check:  2035\n",
      "Enter the lower bound:  125\n",
      "Enter the upper bound:  3035\n"
     ]
    },
    {
     "name": "stdout",
     "output_type": "stream",
     "text": [
      "2035.0 is between 125.0 and 3035.0.\n"
     ]
    }
   ],
   "source": [
    "def is_between(num, lower, upper):\n",
    "    if lower < num < upper:\n",
    "        print(f\"{num} is between {lower} and {upper}.\")\n",
    "    else:\n",
    "        print(f\"{num} is NOT between {lower} and {upper}.\")\n",
    "\n",
    "number = float(input(\"Enter the number to check: \"))\n",
    "lower_bound = float(input(\"Enter the lower bound: \"))\n",
    "upper_bound = float(input(\"Enter the upper bound: \"))\n",
    "\n",
    "is_between(number, lower_bound, upper_bound)\n"
   ]
  },
  {
   "cell_type": "markdown",
   "id": "8a4193b0-e89f-4570-9fa7-4785bbaf47d3",
   "metadata": {
    "id": "bea983a3"
   },
   "source": [
    "### Exercise 26:\n",
    "Write a Python function that checks if all characters in a string are unique.\n",
    "\n",
    "```python\n",
    "# Exercise 26\n",
    "```\n",
    "\n",
    "---"
   ]
  },
  {
   "cell_type": "code",
   "execution_count": 12,
   "id": "34e656da-84e3-4829-afac-cd13e990c8fb",
   "metadata": {},
   "outputs": [
    {
     "name": "stdout",
     "output_type": "stream",
     "text": [
      "False\n",
      "True\n"
     ]
    }
   ],
   "source": [
    "def all_unique_characters(s):\n",
    "    return len(set(s)) == len(s)\n",
    "print(all_unique_characters(\"hello\"))   \n",
    "print(all_unique_characters(\"world\"))   \n",
    "\n"
   ]
  },
  {
   "cell_type": "markdown",
   "id": "87712183-5fac-48aa-a97a-c3d51ffadde5",
   "metadata": {
    "id": "bea983a3"
   },
   "source": [
    "### Exercise 27:\n",
    "Write a Python program that checks if a number is a perfect square.\n",
    "\n",
    "```python\n",
    "# Exercise 27\n",
    "```\n",
    "\n",
    "---"
   ]
  },
  {
   "cell_type": "code",
   "execution_count": 13,
   "id": "7e0ad060-ba4d-4401-be36-4925988992ef",
   "metadata": {},
   "outputs": [
    {
     "name": "stdin",
     "output_type": "stream",
     "text": [
      "Enter a number:  235\n"
     ]
    },
    {
     "name": "stdout",
     "output_type": "stream",
     "text": [
      "235 is not a perfect square.\n"
     ]
    }
   ],
   "source": [
    "import math\n",
    "\n",
    "def is_perfect_square(num):\n",
    "    if num < 0:\n",
    "        return False\n",
    "    root = math.isqrt(num)\n",
    "    return root * root == num\n",
    "\n",
    "number = int(input(\"Enter a number: \"))\n",
    "if is_perfect_square(number):\n",
    "    print(f\"{number} is a perfect square.\")\n",
    "else:\n",
    "    print(f\"{number} is not a perfect square.\")\n"
   ]
  },
  {
   "cell_type": "markdown",
   "id": "203c5c98-1b16-4b1e-afdb-09199f84ce5f",
   "metadata": {
    "id": "bea983a3"
   },
   "source": [
    "### Exercise 28:\n",
    "Write a Python function that checks if a word is a palindrome.\n",
    "\n",
    "```python\n",
    "# Exercise 28\n",
    "```\n",
    "\n",
    "---"
   ]
  },
  {
   "cell_type": "code",
   "execution_count": 14,
   "id": "c366c135-e1e0-4bbc-b2cb-6d7b433cbfe4",
   "metadata": {},
   "outputs": [
    {
     "name": "stdout",
     "output_type": "stream",
     "text": [
      "True\n",
      "False\n"
     ]
    }
   ],
   "source": [
    "def is_palindrome(word):\n",
    "    word = word.lower()  \n",
    "    return word == word[::-1]\n",
    "print(is_palindrome(\"Level\"))  \n",
    "print(is_palindrome(\"Python\")) \n"
   ]
  },
  {
   "cell_type": "markdown",
   "id": "fd401051-ce9e-4413-8566-30fac15e0cd0",
   "metadata": {
    "id": "bea983a3"
   },
   "source": [
    "### Exercise 29:\n",
    "Write a Python program that prints \"Fizz\" if a number is divisible by 3, \"Buzz\" if it is divisible by 5, and \"FizzBuzz\" if divisible by both.\n",
    "\n",
    "```python\n",
    "# Exercise 29\n",
    "```\n",
    "\n",
    "---"
   ]
  },
  {
   "cell_type": "code",
   "execution_count": 15,
   "id": "7ad68bc5-d95a-44d0-941e-3b81495592de",
   "metadata": {},
   "outputs": [
    {
     "name": "stdin",
     "output_type": "stream",
     "text": [
      "Enter a number:  75\n"
     ]
    },
    {
     "name": "stdout",
     "output_type": "stream",
     "text": [
      "FizzBuzz\n"
     ]
    }
   ],
   "source": [
    "def fizz_buzz(num):\n",
    "    if num % 3 == 0 and num % 5 == 0:\n",
    "        print(\"FizzBuzz\")\n",
    "    elif num % 3 == 0:\n",
    "        print(\"Fizz\")\n",
    "    elif num % 5 == 0:\n",
    "        print(\"Buzz\")\n",
    "    else:\n",
    "        print(num)\n",
    "\n",
    "# Example usage\n",
    "number = int(input(\"Enter a number: \"))\n",
    "fizz_buzz(number)\n"
   ]
  },
  {
   "cell_type": "markdown",
   "id": "74b15b78-3e6b-4a7b-82db-eddf19d2af4f",
   "metadata": {
    "id": "bea983a3"
   },
   "source": [
    "### Exercise 30:\n",
    "Write a Python program that checks if the sum of the digits of a number is even.\n",
    "\n",
    "```python\n",
    "# Exercise 30\n",
    "```\n",
    "\n",
    "---"
   ]
  },
  {
   "cell_type": "code",
   "execution_count": 16,
   "id": "9047c286-121a-4413-bf66-62c79ee893b7",
   "metadata": {},
   "outputs": [
    {
     "name": "stdin",
     "output_type": "stream",
     "text": [
      "Enter a number:  778\n"
     ]
    },
    {
     "name": "stdout",
     "output_type": "stream",
     "text": [
      "The sum of the digits is even.\n"
     ]
    }
   ],
   "source": [
    "def is_digit_sum_even(num):\n",
    "    digit_sum = sum(int(digit) for digit in str(abs(num)))\n",
    "    return digit_sum % 2 == 0\n",
    "\n",
    "number = int(input(\"Enter a number: \"))\n",
    "if is_digit_sum_even(number):\n",
    "    print(\"The sum of the digits is even.\")\n",
    "else:\n",
    "    print(\"The sum of the digits is odd.\")\n"
   ]
  },
  {
   "cell_type": "markdown",
   "id": "d329b0a6-8cf0-43ca-b565-2030e2d399f1",
   "metadata": {
    "id": "bea983a3"
   },
   "source": [
    "### Exercise 31:\n",
    "Write a Python program that checks if a string is a valid email address.\n",
    "\n",
    "```python\n",
    "# Exercise 31\n",
    "```\n",
    "\n",
    "---"
   ]
  },
  {
   "cell_type": "code",
   "execution_count": 17,
   "id": "9baea8c8-511d-4698-a142-fb2bc96436f8",
   "metadata": {},
   "outputs": [
    {
     "name": "stdin",
     "output_type": "stream",
     "text": [
      "Enter an email address:  clarissesoffo@gmail.com\n"
     ]
    },
    {
     "name": "stdout",
     "output_type": "stream",
     "text": [
      "Valid email address.\n"
     ]
    }
   ],
   "source": [
    "import re\n",
    "\n",
    "def is_valid_email(email):\n",
    "\n",
    "    pattern = r'^[\\w\\.-]+@[\\w\\.-]+\\.\\w+$'\n",
    "    return re.match(pattern, email) is not None\n",
    "\n",
    "email_input = input(\"Enter an email address: \")\n",
    "if is_valid_email(email_input):\n",
    "    print(\"Valid email address.\")\n",
    "else:\n",
    "    print(\"Invalid email address.\")\n"
   ]
  },
  {
   "cell_type": "markdown",
   "id": "a88d68ce-8d90-4aee-ab57-9fce21bbd7db",
   "metadata": {
    "id": "bea983a3"
   },
   "source": [
    "### Exercise 32:\n",
    "Write a Python function that checks if a number is within 10 of 100 or 200.\n",
    "\n",
    "```python\n",
    "# Exercise 32\n",
    "```\n",
    "\n",
    "---"
   ]
  },
  {
   "cell_type": "code",
   "execution_count": 18,
   "id": "027dba43-8a3d-4eef-b007-8c98d170adac",
   "metadata": {},
   "outputs": [
    {
     "name": "stdout",
     "output_type": "stream",
     "text": [
      "True\n",
      "True\n",
      "False\n"
     ]
    }
   ],
   "source": [
    "def is_within_10_of_100_or_200(n):\n",
    "    return abs(n - 100) <= 10 or abs(n - 200) <= 10\n",
    "\n",
    "print(is_within_10_of_100_or_200(95))  \n",
    "print(is_within_10_of_100_or_200(210)) \n",
    "print(is_within_10_of_100_or_200(50))   "
   ]
  },
  {
   "cell_type": "markdown",
   "id": "88784e30-5ae4-496e-98db-5b4babe639e1",
   "metadata": {
    "id": "bea983a3"
   },
   "source": [
    "### Exercise 33:\n",
    "Write a Python program that checks if a given string is a valid URL.\n",
    "\n",
    "```python\n",
    "# Exercise 33\n",
    "```\n",
    "\n",
    "---"
   ]
  },
  {
   "cell_type": "code",
   "execution_count": 19,
   "id": "edb1a11e-19cb-45ec-92e5-290697514be8",
   "metadata": {},
   "outputs": [
    {
     "name": "stdin",
     "output_type": "stream",
     "text": [
      "Enter a URL:  https.//.gle.AnWngLO\n"
     ]
    },
    {
     "name": "stdout",
     "output_type": "stream",
     "text": [
      "Invalid URL.\n"
     ]
    }
   ],
   "source": [
    "import re\n",
    "\n",
    "def is_valid_url(url):\n",
    "   \n",
    "    pattern = r'^(https?|ftp)://[^\\s/$.?#].[^\\s]*$'\n",
    "    return re.match(pattern, url) is not None\n",
    "\n",
    "url_input = input(\"Enter a URL: \")\n",
    "if is_valid_url(url_input):\n",
    "    print(\"Valid URL.\")\n",
    "else:\n",
    "    print(\"Invalid URL.\")\n"
   ]
  },
  {
   "cell_type": "markdown",
   "id": "c1b20996-8151-455b-b9a8-6d61a3891c47",
   "metadata": {
    "id": "bea983a3"
   },
   "source": [
    "### Exercise 34:\n",
    "Write a Python program that checks if a list contains all even numbers.\n",
    "\n",
    "```python\n",
    "# Exercise 34\n",
    "```\n",
    "\n",
    "---"
   ]
  },
  {
   "cell_type": "code",
   "execution_count": 21,
   "id": "346f735a-f75d-4d9a-8850-9286ef30c70c",
   "metadata": {},
   "outputs": [
    {
     "name": "stdout",
     "output_type": "stream",
     "text": [
      "All numbers are even.\n"
     ]
    }
   ],
   "source": [
    "def all_even(numbers):\n",
    "    return all(num % 2 == 0 for num in numbers)\n",
    "\n",
    "sample_list = [2, 4, 6, 8, 10]\n",
    "if all_even(sample_list):\n",
    "    print(\"All numbers are even.\")\n",
    "else:\n",
    "    print(\"Not all numbers are even.\")\n"
   ]
  },
  {
   "cell_type": "markdown",
   "id": "5ebf8a12-e36b-44ca-a822-b1d945c79cfd",
   "metadata": {
    "id": "bea983a3"
   },
   "source": [
    "### Exercise 35:\n",
    "Write a Python program that checks if a word is longer than a given length.\n",
    "\n",
    "```python\n",
    "# Exercise 35\n",
    "```\n",
    "\n",
    "---"
   ]
  },
  {
   "cell_type": "code",
   "execution_count": 22,
   "id": "caca78e5-586b-4e52-9ac7-f75dd024b91f",
   "metadata": {},
   "outputs": [
    {
     "name": "stdin",
     "output_type": "stream",
     "text": [
      "Enter a word:  danielle tsemo\n",
      "Enter the length to compare:  19\n"
     ]
    },
    {
     "name": "stdout",
     "output_type": "stream",
     "text": [
      "\"danielle tsemo\" is not longer than 19 characters.\n"
     ]
    }
   ],
   "source": [
    "def is_longer_than(word, length):\n",
    "    return len(word) > length\n",
    "\n",
    "word_input = input(\"Enter a word: \")\n",
    "length_input = int(input(\"Enter the length to compare: \"))\n",
    "\n",
    "if is_longer_than(word_input, length_input):\n",
    "    print(f'\"{word_input}\" is longer than {length_input} characters.')\n",
    "else:\n",
    "    print(f'\"{word_input}\" is not longer than {length_input} characters.')\n"
   ]
  },
  {
   "cell_type": "markdown",
   "id": "34526365-e3bc-4976-a20a-10cd5ac57879",
   "metadata": {
    "id": "bea983a3"
   },
   "source": [
    "### Exercise 36:\n",
    "Write a Python program that checks if a list contains only positive numbers.\n",
    "\n",
    "```python\n",
    "# Exercise 36\n",
    "```\n",
    "\n",
    "---"
   ]
  },
  {
   "cell_type": "code",
   "execution_count": 23,
   "id": "d98ccda1-d7ce-4c71-be29-b0ae25a1b305",
   "metadata": {},
   "outputs": [
    {
     "name": "stdout",
     "output_type": "stream",
     "text": [
      "All numbers are positive.\n"
     ]
    }
   ],
   "source": [
    "def all_positive(numbers):\n",
    "    return all(num > 0 for num in numbers)\n",
    "\n",
    "sample_list = [5, 12, 8, 3, 27]\n",
    "\n",
    "if all_positive(sample_list):\n",
    "    print(\"All numbers are positive.\")\n",
    "else:\n",
    "    print(\"The list contains non-positive numbers.\")\n"
   ]
  },
  {
   "cell_type": "markdown",
   "id": "0b29e25e-0378-4621-8ea3-a7a6e67b499a",
   "metadata": {
    "id": "bea983a3"
   },
   "source": [
    "### Exercise 37:\n",
    "Write a Python function that checks if a year is a century year (i.e., divisible by 100).\n",
    "\n",
    "```python\n",
    "# Exercise 37\n",
    "```\n",
    "\n",
    "---"
   ]
  },
  {
   "cell_type": "code",
   "execution_count": 24,
   "id": "2e9839ae-f9b5-48f7-ace8-31aca7a2df54",
   "metadata": {},
   "outputs": [
    {
     "name": "stdout",
     "output_type": "stream",
     "text": [
      "True\n"
     ]
    }
   ],
   "source": [
    "def is_century_year(year):\n",
    "    return year % 100 == 0\n",
    "print(is_century_year(1900))"
   ]
  },
  {
   "cell_type": "markdown",
   "id": "ec0468e4-0d99-43f9-b320-92dbab7766f3",
   "metadata": {
    "id": "bea983a3"
   },
   "source": [
    "### Exercise 38:\n",
    "Write a Python program that checks if the sum of a list of numbers is greater than 100.\n",
    "\n",
    "```python\n",
    "# Exercise 38\n",
    "```\n",
    "\n",
    "---"
   ]
  },
  {
   "cell_type": "code",
   "execution_count": 25,
   "id": "4e0facc1-e134-4103-abb9-c189bbe21399",
   "metadata": {},
   "outputs": [
    {
     "name": "stdout",
     "output_type": "stream",
     "text": [
      "The sum is greater than 100.\n"
     ]
    }
   ],
   "source": [
    "def is_sum_greater_than_100(numbers):\n",
    "    total = sum(numbers)\n",
    "    return total > 100\n",
    "\n",
    "sample_list = [25, 30, 10, 40]  \n",
    "if is_sum_greater_than_100(sample_list):\n",
    "    print(\"The sum is greater than 100.\")\n",
    "else:\n",
    "    print(\"The sum is not greater than 100.\")\n",
    "\n"
   ]
  },
  {
   "cell_type": "markdown",
   "id": "08413cc6-5312-4281-896f-79b1971387fb",
   "metadata": {
    "id": "bea983a3"
   },
   "source": [
    "### Exercise 39:\n",
    "Write a Python function that checks if a given word is a substring of another string.\n",
    "\n",
    "```python\n",
    "# Exercise 39\n",
    "```\n",
    "\n",
    "---"
   ]
  },
  {
   "cell_type": "code",
   "execution_count": 31,
   "id": "3feed696-33d5-4117-a6bd-d85441cb74a0",
   "metadata": {},
   "outputs": [
    {
     "name": "stdout",
     "output_type": "stream",
     "text": [
      "True\n",
      "False\n",
      "True\n"
     ]
    }
   ],
   "source": [
    "def is_substring(word, text):\n",
    "    return word in text\n",
    "print(is_substring(\"cat\", \"concatenate\")) \n",
    "print(is_substring(\"dog\", \"animal\")) \n",
    "print(is_substring(\"clara\", \"chemegnie soffo clarabelle\"))"
   ]
  },
  {
   "cell_type": "markdown",
   "id": "3b03b8b5-1090-4904-b244-ef9a24f084e6",
   "metadata": {
    "id": "bea983a3"
   },
   "source": [
    "### Exercise 40:\n",
    "Write a Python program that checks if a number is a power of 2.\n",
    "\n",
    "```python\n",
    "# Exercise 40\n",
    "```\n",
    "\n",
    "---"
   ]
  },
  {
   "cell_type": "code",
   "execution_count": 33,
   "id": "694ac9cc-4e6d-4306-90ea-8e9b9a7f56b5",
   "metadata": {},
   "outputs": [
    {
     "name": "stdin",
     "output_type": "stream",
     "text": [
      "Enter a number:  258\n"
     ]
    },
    {
     "name": "stdout",
     "output_type": "stream",
     "text": [
      "258 is not a power of 2.\n"
     ]
    }
   ],
   "source": [
    "def is_power_of_two(n):\n",
    "    if n <= 0:\n",
    "        return False\n",
    "    return (n & (n - 1)) == 0\n",
    "\n",
    "# Example usage\n",
    "number = int(input(\"Enter a number: \"))\n",
    "if is_power_of_two(number):\n",
    "    print(f\"{number} is a power of 2.\")\n",
    "else:\n",
    "    print(f\"{number} is not a power of 2.\")\n"
   ]
  },
  {
   "cell_type": "markdown",
   "id": "b9103292-fb65-4536-8825-7fd3fa7fba00",
   "metadata": {
    "id": "bea983a3"
   },
   "source": [
    "### Exercise 41:\n",
    "Write a Python function that checks if a string contains no spaces.\n",
    "\n",
    "```python\n",
    "# Exercise 41\n",
    "```\n",
    "\n",
    "---"
   ]
  },
  {
   "cell_type": "code",
   "execution_count": 34,
   "id": "38bd3675-15d7-4b73-b052-ba12acab21ea",
   "metadata": {},
   "outputs": [
    {
     "name": "stdout",
     "output_type": "stream",
     "text": [
      "True\n",
      "False\n"
     ]
    }
   ],
   "source": [
    "def has_no_spaces(s):\n",
    "    return ' ' not in s\n",
    "print(has_no_spaces(\"HelloWorld\"))   \n",
    "print(has_no_spaces(\"Hello World\"))"
   ]
  },
  {
   "cell_type": "markdown",
   "id": "d544147a-8c66-45e7-9aeb-a09b399409de",
   "metadata": {
    "id": "bea983a3"
   },
   "source": [
    "### Exercise 42:\n",
    "Write a Python program that prints \"Yes\" if a number is divisible by both 2 and 3, otherwise it prints \"No.\"\n",
    "\n",
    "```python\n",
    "# Exercise 42\n",
    "```\n",
    "\n",
    "---"
   ]
  },
  {
   "cell_type": "code",
   "execution_count": 1,
   "id": "a1361bfa-0494-4641-9089-0fc7e7c85ae9",
   "metadata": {},
   "outputs": [
    {
     "name": "stdin",
     "output_type": "stream",
     "text": [
      "Enter a number:  85\n"
     ]
    },
    {
     "name": "stdout",
     "output_type": "stream",
     "text": [
      "No\n"
     ]
    },
    {
     "name": "stdin",
     "output_type": "stream",
     "text": [
      "Enter a number:  24\n"
     ]
    },
    {
     "name": "stdout",
     "output_type": "stream",
     "text": [
      "Yes\n"
     ]
    }
   ],
   "source": [
    "def check_divisibility(num):\n",
    "    if num % 2 == 0 and num % 3 == 0:\n",
    "        print(\"Yes\")\n",
    "    else:\n",
    "        print(\"No\")\n",
    "\n",
    "number = int(input(\"Enter a number: \"))\n",
    "check_divisibility(number)\n",
    "number = int(input(\"Enter a number: \"))\n",
    "check_divisibility(number)"
   ]
  },
  {
   "cell_type": "markdown",
   "id": "9f51575e-d942-494a-9979-05c465c2a42f",
   "metadata": {
    "id": "bea983a3"
   },
   "source": [
    "### Exercise 43:\n",
    "Write a Python program that checks if a number is a palindrome.\n",
    "\n",
    "```python\n",
    "# Exercise 43\n",
    "```\n",
    "\n",
    "---"
   ]
  },
  {
   "cell_type": "code",
   "execution_count": 2,
   "id": "e7b4f74d-3e85-4116-8741-b9e77d9e9aaf",
   "metadata": {},
   "outputs": [
    {
     "name": "stdout",
     "output_type": "stream",
     "text": [
      "42424 is a palindrome.\n"
     ]
    }
   ],
   "source": [
    "def is_palindrome_number(num):\n",
    "\n",
    "    num_str = str(num)\n",
    "    return num_str == num_str[::-1]\n",
    "\n",
    "number = int(input(\"Enter a number: \")\n",
    "if is_palindrome_number(number):\n",
    "    print(f\"{number} is a palindrome.\")\n",
    "else:\n",
    "    print(f\"{number} is not a palindrome.\")\n",
    "    \n"
   ]
  },
  {
   "cell_type": "markdown",
   "id": "fae832b3-f302-4615-8c63-8cfcebb670fd",
   "metadata": {
    "id": "bea983a3"
   },
   "source": [
    "### Exercise 44:\n",
    "Write a Python function that checks if a string is made of only lowercase letters.\n",
    "\n",
    "```python\n",
    "# Exercise 44\n",
    "```\n",
    "\n",
    "---"
   ]
  },
  {
   "cell_type": "code",
   "execution_count": 5,
   "id": "2db23377-f87d-4971-a407-0b831bfac927",
   "metadata": {},
   "outputs": [
    {
     "name": "stdout",
     "output_type": "stream",
     "text": [
      "True\n",
      "False\n",
      "True\n"
     ]
    }
   ],
   "source": [
    "def is_all_lowercase(s):\n",
    "    return s.islower()\n",
    "print(is_all_lowercase(\"hello\"))\n",
    "print(is_all_lowercase(\"Hello\")) \n",
    "print(is_all_lowercase(\"hello123\"))  "
   ]
  },
  {
   "cell_type": "markdown",
   "id": "45021c87-5b71-4b9b-85fa-aaeee760035b",
   "metadata": {
    "id": "bea983a3"
   },
   "source": [
    "### Exercise 45:\n",
    "Write a Python program that checks if a string starts with a specific prefix.\n",
    "\n",
    "```python\n",
    "# Exercise 45\n",
    "```\n",
    "\n",
    "---"
   ]
  },
  {
   "cell_type": "code",
   "execution_count": 8,
   "id": "b22708a3-57fd-4b52-9225-2c5622a902e1",
   "metadata": {},
   "outputs": [
    {
     "name": "stdin",
     "output_type": "stream",
     "text": [
      "Enter a string:  constant\n",
      "Enter the prefix to check:  cons\n"
     ]
    },
    {
     "name": "stdout",
     "output_type": "stream",
     "text": [
      "The string starts with \"cons\".\n"
     ]
    }
   ],
   "source": [
    "def starts_with_prefix(text, prefix):\n",
    "    return text.startswith(prefix)\n",
    "\n",
    "input_text = input(\"Enter a string: \")\n",
    "input_prefix = input(\"Enter the prefix to check: \")\n",
    "\n",
    "if starts_with_prefix(input_text, input_prefix):\n",
    "    print(f'The string starts with \"{input_prefix}\".')\n",
    "else:\n",
    "    print(f'The string does not start with \"{input_prefix}\".')\n"
   ]
  },
  {
   "cell_type": "markdown",
   "id": "1e608063-08ac-4557-86f0-e8d08fa0655c",
   "metadata": {
    "id": "bea983a3"
   },
   "source": [
    "### Exercise 46:\n",
    "Write a Python function that checks if a number is divisible by any number in a given list.\n",
    "\n",
    "```python\n",
    "# Exercise 46\n",
    "```\n",
    "\n",
    "---"
   ]
  },
  {
   "cell_type": "code",
   "execution_count": 9,
   "id": "4e9c350c-7d22-40f2-bec3-50c5d249d040",
   "metadata": {},
   "outputs": [
    {
     "name": "stdout",
     "output_type": "stream",
     "text": [
      "True\n",
      "False\n",
      "True\n"
     ]
    }
   ],
   "source": [
    "def is_divisible_by_any(number, divisors):\n",
    "    return any(number % d == 0 for d in divisors if d != 0)\n",
    "print(is_divisible_by_any(20, [3, 5, 7]))   \n",
    "print(is_divisible_by_any(13, [2, 4, 6])) \n",
    "print(is_divisible_by_any(0, [1, 2, 3]))   "
   ]
  },
  {
   "cell_type": "markdown",
   "id": "d38ae3af-a1b8-489b-9b4c-efd11f69e39f",
   "metadata": {
    "id": "bea983a3"
   },
   "source": [
    "### Exercise 47:\n",
    "Write a Python program that prints \"Yes\" if a string has more than one occurrence of the same letter.\n",
    "\n",
    "```python\n",
    "# Exercise 47\n",
    "```\n",
    "\n",
    "---"
   ]
  },
  {
   "cell_type": "code",
   "execution_count": 10,
   "id": "c6f9b22c-2cfe-4b33-87bd-604097ee946b",
   "metadata": {},
   "outputs": [
    {
     "name": "stdin",
     "output_type": "stream",
     "text": [
      "Enter a string:  danielle\n"
     ]
    },
    {
     "name": "stdout",
     "output_type": "stream",
     "text": [
      "Yes\n"
     ]
    }
   ],
   "source": [
    "def has_duplicate_letters(s):\n",
    "    seen = set()\n",
    "    for char in s:\n",
    "        if char.isalpha():  # Only consider letters\n",
    "            if char in seen:\n",
    "                return True\n",
    "            seen.add(char)\n",
    "    return False\n",
    "\n",
    "# Example usage\n",
    "input_string = input(\"Enter a string: \")\n",
    "if has_duplicate_letters(input_string):\n",
    "    print(\"Yes\")\n",
    "else:\n",
    "    print(\"No\")\n"
   ]
  },
  {
   "cell_type": "markdown",
   "id": "dace35ca-6de8-4579-b2e5-e134a847423b",
   "metadata": {
    "id": "bea983a3"
   },
   "source": [
    "### Exercise 48:\n",
    "Write a Python function that checks if a number is prime by dividing it by numbers up to its square root.\n",
    "\n",
    "```python\n",
    "# Exercise 48\n",
    "```\n",
    "\n",
    "---"
   ]
  },
  {
   "cell_type": "code",
   "execution_count": 12,
   "id": "0b7db313-ad57-4ba2-82bd-0a7af4952d84",
   "metadata": {},
   "outputs": [
    {
     "name": "stdout",
     "output_type": "stream",
     "text": [
      "True\n",
      "False\n"
     ]
    }
   ],
   "source": [
    "import math\n",
    "\n",
    "def is_prime(n):\n",
    "    if n <= 1:\n",
    "        return False\n",
    "    if n == 2:\n",
    "        return True\n",
    "    if n % 2 == 0:\n",
    "        return False\n",
    "    max_divisor = int(math.sqrt(n)) + 1\n",
    "    for i in range(3, max_divisor, 2):\n",
    "        if n % i == 0:\n",
    "            return False\n",
    "    return True\n",
    "print(is_prime(29))\n",
    "print(is_prime(100)) \n"
   ]
  },
  {
   "cell_type": "markdown",
   "id": "153ef3ec-8a1f-4b2c-b5a6-cb81cf0b47d0",
   "metadata": {
    "id": "bea983a3"
   },
   "source": [
    "### Exercise 49:\n",
    "Write a Python program that checks if a number is within 1 of a multiple of 10.\n",
    "\n",
    "```python\n",
    "# Exercise 49\n",
    "```\n",
    "\n",
    "---"
   ]
  },
  {
   "cell_type": "code",
   "execution_count": 13,
   "id": "174012ce-e0d7-4960-9c52-cd0cb6902415",
   "metadata": {},
   "outputs": [
    {
     "name": "stdin",
     "output_type": "stream",
     "text": [
      "Enter a number:  458\n"
     ]
    },
    {
     "name": "stdout",
     "output_type": "stream",
     "text": [
      "No\n"
     ]
    }
   ],
   "source": [
    "def is_within_one_of_multiple_of_10(n):\n",
    "    remainder = n % 10\n",
    "    return remainder == 1 or remainder == 9\n",
    "\n",
    "number = int(input(\"Enter a number: \"))\n",
    "if is_within_one_of_multiple_of_10(number):\n",
    "    print(\"Yes\")\n",
    "else:\n",
    "    print(\"No\")\n"
   ]
  },
  {
   "cell_type": "markdown",
   "id": "c23c46ab-16e2-4654-81ac-e590d60ff30d",
   "metadata": {
    "id": "bea983a3"
   },
   "source": [
    "### Exercise 50:\n",
    "Write a Python program that prints \"In range\" if a number is between 10 and 20 (inclusive), otherwise it prints \"Out of range.\"\n",
    "\n",
    "```python\n",
    "# Exercise 50\n",
    "```\n",
    "\n",
    "---"
   ]
  },
  {
   "cell_type": "code",
   "execution_count": 14,
   "id": "8fb6183a-ef90-49dd-8bd0-23b3c509a9ae",
   "metadata": {},
   "outputs": [
    {
     "name": "stdin",
     "output_type": "stream",
     "text": [
      "Enter a number:  19\n"
     ]
    },
    {
     "name": "stdout",
     "output_type": "stream",
     "text": [
      "In range\n"
     ]
    }
   ],
   "source": [
    "def check_range(n):\n",
    "    if 10 <= n <= 20:\n",
    "        print(\"In range\")\n",
    "    else:\n",
    "        print(\"Out of range\")\n",
    "\n",
    "number = int(input(\"Enter a number: \"))\n",
    "check_range(number)\n"
   ]
  },
  {
   "cell_type": "code",
   "execution_count": 15,
   "id": "a0f117d4-0945-441c-8a3e-a2e51a06905c",
   "metadata": {},
   "outputs": [
    {
     "name": "stdout",
     "output_type": "stream",
     "text": [
      "Out of range\n",
      "None\n"
     ]
    }
   ],
   "source": [
    "print(check_range(31))"
   ]
  },
  {
   "cell_type": "code",
   "execution_count": null,
   "id": "344ece4b-7c91-4afe-a1fe-75bd57e988ff",
   "metadata": {},
   "outputs": [],
   "source": []
  }
 ],
 "metadata": {
  "colab": {
   "provenance": []
  },
  "kernelspec": {
   "display_name": "Python [conda env:base] *",
   "language": "python",
   "name": "conda-base-py"
  },
  "language_info": {
   "codemirror_mode": {
    "name": "ipython",
    "version": 3
   },
   "file_extension": ".py",
   "mimetype": "text/x-python",
   "name": "python",
   "nbconvert_exporter": "python",
   "pygments_lexer": "ipython3",
   "version": "3.12.4"
  }
 },
 "nbformat": 4,
 "nbformat_minor": 5
}
